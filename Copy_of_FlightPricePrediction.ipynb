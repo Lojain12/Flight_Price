{
  "nbformat": 4,
  "nbformat_minor": 0,
  "metadata": {
    "colab": {
      "provenance": [],
      "include_colab_link": true
    },
    "kernelspec": {
      "name": "python3",
      "display_name": "Python 3"
    },
    "language_info": {
      "name": "python"
    }
  },
  "cells": [
    {
      "cell_type": "markdown",
      "metadata": {
        "id": "view-in-github",
        "colab_type": "text"
      },
      "source": [
        "<a href=\"https://colab.research.google.com/github/Lojain12/Flight_Price/blob/main/Copy_of_FlightPricePrediction.ipynb\" target=\"_parent\"><img src=\"https://colab.research.google.com/assets/colab-badge.svg\" alt=\"Open In Colab\"/></a>"
      ]
    },
    {
      "cell_type": "markdown",
      "source": [
        "# **Flight price prediction**\n",
        "### Our goal is to build supervised Natural Language Processing (NLP) machine learning models to predict the price of a flight."
      ],
      "metadata": {
        "id": "tvBr1y8yttm6"
      }
    },
    {
      "cell_type": "markdown",
      "source": [
        "### **Import Libaries**"
      ],
      "metadata": {
        "id": "dSxhsDsottaq"
      }
    },
    {
      "cell_type": "code",
      "execution_count": 3,
      "metadata": {
        "id": "RueiSeRnqtOt"
      },
      "outputs": [],
      "source": [
        "import numpy as np\n",
        "import pandas as pd\n",
        "import scipy as sp\n",
        "import sklearn as sk\n",
        "import os\n",
        "import tarfile\n",
        "import urllib\n",
        "\n",
        "import matplotlib.pyplot as plt\n",
        "import seaborn as sns\n",
        "import plotly.express as px\n",
        "import plotly.graph_objs as go\n",
        "from sklearn.model_selection import train_test_split\n",
        "from sklearn.model_selection import StratifiedShuffleSplit"
      ]
    },
    {
      "cell_type": "markdown",
      "source": [
        "### **Load the data**"
      ],
      "metadata": {
        "id": "sw1bwZi9uuY8"
      }
    },
    {
      "cell_type": "code",
      "source": [
        "flight = pd.read_csv(\"Flight_price.csv\")\n",
        "flight.head()"
      ],
      "metadata": {
        "id": "QTuZ_BGmutvM",
        "outputId": "bcbabb9f-fe28-47e4-ccd1-4a5aecc597c7",
        "colab": {
          "base_uri": "https://localhost:8080/",
          "height": 339
        }
      },
      "execution_count": 4,
      "outputs": [
        {
          "output_type": "execute_result",
          "data": {
            "text/plain": [
              "   number   airline   flight source_city departure_time stops   arrival_time  \\\n",
              "0       0  SpiceJet  SG-8709       Delhi        Evening  zero          Night   \n",
              "1       1  SpiceJet  SG-8157       Delhi  Early_Morning  zero        Morning   \n",
              "2       2   AirAsia   I5-764       Delhi  Early_Morning  zero  Early_Morning   \n",
              "3       3   Vistara   UK-995       Delhi        Morning  zero      Afternoon   \n",
              "4       4   Vistara   UK-963       Delhi        Morning  zero        Morning   \n",
              "\n",
              "  destination_city    class  duration  lead_reservation  price  \n",
              "0           Mumbai  Economy      2.17                 1   5953  \n",
              "1           Mumbai  Economy      2.33                 1   5953  \n",
              "2           Mumbai  Economy      2.17                 1   5956  \n",
              "3           Mumbai  Economy      2.25                 1   5955  \n",
              "4           Mumbai  Economy      2.33                 1   5955  "
            ],
            "text/html": [
              "\n",
              "  <div id=\"df-2565aa04-1634-45f0-8682-51a7b4a70556\">\n",
              "    <div class=\"colab-df-container\">\n",
              "      <div>\n",
              "<style scoped>\n",
              "    .dataframe tbody tr th:only-of-type {\n",
              "        vertical-align: middle;\n",
              "    }\n",
              "\n",
              "    .dataframe tbody tr th {\n",
              "        vertical-align: top;\n",
              "    }\n",
              "\n",
              "    .dataframe thead th {\n",
              "        text-align: right;\n",
              "    }\n",
              "</style>\n",
              "<table border=\"1\" class=\"dataframe\">\n",
              "  <thead>\n",
              "    <tr style=\"text-align: right;\">\n",
              "      <th></th>\n",
              "      <th>number</th>\n",
              "      <th>airline</th>\n",
              "      <th>flight</th>\n",
              "      <th>source_city</th>\n",
              "      <th>departure_time</th>\n",
              "      <th>stops</th>\n",
              "      <th>arrival_time</th>\n",
              "      <th>destination_city</th>\n",
              "      <th>class</th>\n",
              "      <th>duration</th>\n",
              "      <th>lead_reservation</th>\n",
              "      <th>price</th>\n",
              "    </tr>\n",
              "  </thead>\n",
              "  <tbody>\n",
              "    <tr>\n",
              "      <th>0</th>\n",
              "      <td>0</td>\n",
              "      <td>SpiceJet</td>\n",
              "      <td>SG-8709</td>\n",
              "      <td>Delhi</td>\n",
              "      <td>Evening</td>\n",
              "      <td>zero</td>\n",
              "      <td>Night</td>\n",
              "      <td>Mumbai</td>\n",
              "      <td>Economy</td>\n",
              "      <td>2.17</td>\n",
              "      <td>1</td>\n",
              "      <td>5953</td>\n",
              "    </tr>\n",
              "    <tr>\n",
              "      <th>1</th>\n",
              "      <td>1</td>\n",
              "      <td>SpiceJet</td>\n",
              "      <td>SG-8157</td>\n",
              "      <td>Delhi</td>\n",
              "      <td>Early_Morning</td>\n",
              "      <td>zero</td>\n",
              "      <td>Morning</td>\n",
              "      <td>Mumbai</td>\n",
              "      <td>Economy</td>\n",
              "      <td>2.33</td>\n",
              "      <td>1</td>\n",
              "      <td>5953</td>\n",
              "    </tr>\n",
              "    <tr>\n",
              "      <th>2</th>\n",
              "      <td>2</td>\n",
              "      <td>AirAsia</td>\n",
              "      <td>I5-764</td>\n",
              "      <td>Delhi</td>\n",
              "      <td>Early_Morning</td>\n",
              "      <td>zero</td>\n",
              "      <td>Early_Morning</td>\n",
              "      <td>Mumbai</td>\n",
              "      <td>Economy</td>\n",
              "      <td>2.17</td>\n",
              "      <td>1</td>\n",
              "      <td>5956</td>\n",
              "    </tr>\n",
              "    <tr>\n",
              "      <th>3</th>\n",
              "      <td>3</td>\n",
              "      <td>Vistara</td>\n",
              "      <td>UK-995</td>\n",
              "      <td>Delhi</td>\n",
              "      <td>Morning</td>\n",
              "      <td>zero</td>\n",
              "      <td>Afternoon</td>\n",
              "      <td>Mumbai</td>\n",
              "      <td>Economy</td>\n",
              "      <td>2.25</td>\n",
              "      <td>1</td>\n",
              "      <td>5955</td>\n",
              "    </tr>\n",
              "    <tr>\n",
              "      <th>4</th>\n",
              "      <td>4</td>\n",
              "      <td>Vistara</td>\n",
              "      <td>UK-963</td>\n",
              "      <td>Delhi</td>\n",
              "      <td>Morning</td>\n",
              "      <td>zero</td>\n",
              "      <td>Morning</td>\n",
              "      <td>Mumbai</td>\n",
              "      <td>Economy</td>\n",
              "      <td>2.33</td>\n",
              "      <td>1</td>\n",
              "      <td>5955</td>\n",
              "    </tr>\n",
              "  </tbody>\n",
              "</table>\n",
              "</div>\n",
              "      <button class=\"colab-df-convert\" onclick=\"convertToInteractive('df-2565aa04-1634-45f0-8682-51a7b4a70556')\"\n",
              "              title=\"Convert this dataframe to an interactive table.\"\n",
              "              style=\"display:none;\">\n",
              "        \n",
              "  <svg xmlns=\"http://www.w3.org/2000/svg\" height=\"24px\"viewBox=\"0 0 24 24\"\n",
              "       width=\"24px\">\n",
              "    <path d=\"M0 0h24v24H0V0z\" fill=\"none\"/>\n",
              "    <path d=\"M18.56 5.44l.94 2.06.94-2.06 2.06-.94-2.06-.94-.94-2.06-.94 2.06-2.06.94zm-11 1L8.5 8.5l.94-2.06 2.06-.94-2.06-.94L8.5 2.5l-.94 2.06-2.06.94zm10 10l.94 2.06.94-2.06 2.06-.94-2.06-.94-.94-2.06-.94 2.06-2.06.94z\"/><path d=\"M17.41 7.96l-1.37-1.37c-.4-.4-.92-.59-1.43-.59-.52 0-1.04.2-1.43.59L10.3 9.45l-7.72 7.72c-.78.78-.78 2.05 0 2.83L4 21.41c.39.39.9.59 1.41.59.51 0 1.02-.2 1.41-.59l7.78-7.78 2.81-2.81c.8-.78.8-2.07 0-2.86zM5.41 20L4 18.59l7.72-7.72 1.47 1.35L5.41 20z\"/>\n",
              "  </svg>\n",
              "      </button>\n",
              "      \n",
              "  <style>\n",
              "    .colab-df-container {\n",
              "      display:flex;\n",
              "      flex-wrap:wrap;\n",
              "      gap: 12px;\n",
              "    }\n",
              "\n",
              "    .colab-df-convert {\n",
              "      background-color: #E8F0FE;\n",
              "      border: none;\n",
              "      border-radius: 50%;\n",
              "      cursor: pointer;\n",
              "      display: none;\n",
              "      fill: #1967D2;\n",
              "      height: 32px;\n",
              "      padding: 0 0 0 0;\n",
              "      width: 32px;\n",
              "    }\n",
              "\n",
              "    .colab-df-convert:hover {\n",
              "      background-color: #E2EBFA;\n",
              "      box-shadow: 0px 1px 2px rgba(60, 64, 67, 0.3), 0px 1px 3px 1px rgba(60, 64, 67, 0.15);\n",
              "      fill: #174EA6;\n",
              "    }\n",
              "\n",
              "    [theme=dark] .colab-df-convert {\n",
              "      background-color: #3B4455;\n",
              "      fill: #D2E3FC;\n",
              "    }\n",
              "\n",
              "    [theme=dark] .colab-df-convert:hover {\n",
              "      background-color: #434B5C;\n",
              "      box-shadow: 0px 1px 3px 1px rgba(0, 0, 0, 0.15);\n",
              "      filter: drop-shadow(0px 1px 2px rgba(0, 0, 0, 0.3));\n",
              "      fill: #FFFFFF;\n",
              "    }\n",
              "  </style>\n",
              "\n",
              "      <script>\n",
              "        const buttonEl =\n",
              "          document.querySelector('#df-2565aa04-1634-45f0-8682-51a7b4a70556 button.colab-df-convert');\n",
              "        buttonEl.style.display =\n",
              "          google.colab.kernel.accessAllowed ? 'block' : 'none';\n",
              "\n",
              "        async function convertToInteractive(key) {\n",
              "          const element = document.querySelector('#df-2565aa04-1634-45f0-8682-51a7b4a70556');\n",
              "          const dataTable =\n",
              "            await google.colab.kernel.invokeFunction('convertToInteractive',\n",
              "                                                     [key], {});\n",
              "          if (!dataTable) return;\n",
              "\n",
              "          const docLinkHtml = 'Like what you see? Visit the ' +\n",
              "            '<a target=\"_blank\" href=https://colab.research.google.com/notebooks/data_table.ipynb>data table notebook</a>'\n",
              "            + ' to learn more about interactive tables.';\n",
              "          element.innerHTML = '';\n",
              "          dataTable['output_type'] = 'display_data';\n",
              "          await google.colab.output.renderOutput(dataTable, element);\n",
              "          const docLink = document.createElement('div');\n",
              "          docLink.innerHTML = docLinkHtml;\n",
              "          element.appendChild(docLink);\n",
              "        }\n",
              "      </script>\n",
              "    </div>\n",
              "  </div>\n",
              "  "
            ]
          },
          "metadata": {},
          "execution_count": 4
        }
      ]
    },
    {
      "cell_type": "markdown",
      "source": [
        "Take a 100,000 sample"
      ],
      "metadata": {
        "id": "xddlZ4Hq_rmx"
      }
    },
    {
      "cell_type": "code",
      "source": [
        "flight = flight.sample(n=1000, random_state=42)"
      ],
      "metadata": {
        "id": "IIjmbimI_rAZ"
      },
      "execution_count": 5,
      "outputs": []
    },
    {
      "cell_type": "markdown",
      "source": [
        "### **View data**"
      ],
      "metadata": {
        "id": "Rme_P7PwvReG"
      }
    },
    {
      "cell_type": "code",
      "source": [
        "flight.info()"
      ],
      "metadata": {
        "id": "ERoa4lgYvSCd",
        "outputId": "6fdb8e9b-dcd5-47fe-f727-26f309499b8c",
        "colab": {
          "base_uri": "https://localhost:8080/"
        }
      },
      "execution_count": 6,
      "outputs": [
        {
          "output_type": "stream",
          "name": "stdout",
          "text": [
            "<class 'pandas.core.frame.DataFrame'>\n",
            "Int64Index: 1000 entries, 27131 to 75274\n",
            "Data columns (total 12 columns):\n",
            " #   Column            Non-Null Count  Dtype  \n",
            "---  ------            --------------  -----  \n",
            " 0   number            1000 non-null   int64  \n",
            " 1   airline           1000 non-null   object \n",
            " 2   flight            1000 non-null   object \n",
            " 3   source_city       1000 non-null   object \n",
            " 4   departure_time    1000 non-null   object \n",
            " 5   stops             1000 non-null   object \n",
            " 6   arrival_time      1000 non-null   object \n",
            " 7   destination_city  1000 non-null   object \n",
            " 8   class             1000 non-null   object \n",
            " 9   duration          1000 non-null   float64\n",
            " 10  lead_reservation  1000 non-null   int64  \n",
            " 11  price             1000 non-null   int64  \n",
            "dtypes: float64(1), int64(3), object(8)\n",
            "memory usage: 101.6+ KB\n"
          ]
        }
      ]
    },
    {
      "cell_type": "code",
      "source": [
        "flight.describe()"
      ],
      "metadata": {
        "id": "lakpuVBavdx8",
        "outputId": "a0e0f323-62fe-48cf-fea3-81ac5c98a097",
        "colab": {
          "base_uri": "https://localhost:8080/",
          "height": 300
        }
      },
      "execution_count": 7,
      "outputs": [
        {
          "output_type": "execute_result",
          "data": {
            "text/plain": [
              "              number     duration  lead_reservation         price\n",
              "count    1000.000000  1000.000000       1000.000000   1000.000000\n",
              "mean   144905.771000    12.169290         25.882000  20020.685000\n",
              "std     87018.045615     7.172312         13.599302  22496.083452\n",
              "min        49.000000     1.080000          1.000000   1105.000000\n",
              "25%     69877.000000     6.670000         14.000000   4823.750000\n",
              "50%    143671.000000    11.250000         25.000000   7021.000000\n",
              "75%    218396.750000    16.020000         38.000000  41269.000000\n",
              "max    300089.000000    36.830000         49.000000  98839.000000"
            ],
            "text/html": [
              "\n",
              "  <div id=\"df-5bcb8eb4-36a5-4ecc-af0b-e0f425769c57\">\n",
              "    <div class=\"colab-df-container\">\n",
              "      <div>\n",
              "<style scoped>\n",
              "    .dataframe tbody tr th:only-of-type {\n",
              "        vertical-align: middle;\n",
              "    }\n",
              "\n",
              "    .dataframe tbody tr th {\n",
              "        vertical-align: top;\n",
              "    }\n",
              "\n",
              "    .dataframe thead th {\n",
              "        text-align: right;\n",
              "    }\n",
              "</style>\n",
              "<table border=\"1\" class=\"dataframe\">\n",
              "  <thead>\n",
              "    <tr style=\"text-align: right;\">\n",
              "      <th></th>\n",
              "      <th>number</th>\n",
              "      <th>duration</th>\n",
              "      <th>lead_reservation</th>\n",
              "      <th>price</th>\n",
              "    </tr>\n",
              "  </thead>\n",
              "  <tbody>\n",
              "    <tr>\n",
              "      <th>count</th>\n",
              "      <td>1000.000000</td>\n",
              "      <td>1000.000000</td>\n",
              "      <td>1000.000000</td>\n",
              "      <td>1000.000000</td>\n",
              "    </tr>\n",
              "    <tr>\n",
              "      <th>mean</th>\n",
              "      <td>144905.771000</td>\n",
              "      <td>12.169290</td>\n",
              "      <td>25.882000</td>\n",
              "      <td>20020.685000</td>\n",
              "    </tr>\n",
              "    <tr>\n",
              "      <th>std</th>\n",
              "      <td>87018.045615</td>\n",
              "      <td>7.172312</td>\n",
              "      <td>13.599302</td>\n",
              "      <td>22496.083452</td>\n",
              "    </tr>\n",
              "    <tr>\n",
              "      <th>min</th>\n",
              "      <td>49.000000</td>\n",
              "      <td>1.080000</td>\n",
              "      <td>1.000000</td>\n",
              "      <td>1105.000000</td>\n",
              "    </tr>\n",
              "    <tr>\n",
              "      <th>25%</th>\n",
              "      <td>69877.000000</td>\n",
              "      <td>6.670000</td>\n",
              "      <td>14.000000</td>\n",
              "      <td>4823.750000</td>\n",
              "    </tr>\n",
              "    <tr>\n",
              "      <th>50%</th>\n",
              "      <td>143671.000000</td>\n",
              "      <td>11.250000</td>\n",
              "      <td>25.000000</td>\n",
              "      <td>7021.000000</td>\n",
              "    </tr>\n",
              "    <tr>\n",
              "      <th>75%</th>\n",
              "      <td>218396.750000</td>\n",
              "      <td>16.020000</td>\n",
              "      <td>38.000000</td>\n",
              "      <td>41269.000000</td>\n",
              "    </tr>\n",
              "    <tr>\n",
              "      <th>max</th>\n",
              "      <td>300089.000000</td>\n",
              "      <td>36.830000</td>\n",
              "      <td>49.000000</td>\n",
              "      <td>98839.000000</td>\n",
              "    </tr>\n",
              "  </tbody>\n",
              "</table>\n",
              "</div>\n",
              "      <button class=\"colab-df-convert\" onclick=\"convertToInteractive('df-5bcb8eb4-36a5-4ecc-af0b-e0f425769c57')\"\n",
              "              title=\"Convert this dataframe to an interactive table.\"\n",
              "              style=\"display:none;\">\n",
              "        \n",
              "  <svg xmlns=\"http://www.w3.org/2000/svg\" height=\"24px\"viewBox=\"0 0 24 24\"\n",
              "       width=\"24px\">\n",
              "    <path d=\"M0 0h24v24H0V0z\" fill=\"none\"/>\n",
              "    <path d=\"M18.56 5.44l.94 2.06.94-2.06 2.06-.94-2.06-.94-.94-2.06-.94 2.06-2.06.94zm-11 1L8.5 8.5l.94-2.06 2.06-.94-2.06-.94L8.5 2.5l-.94 2.06-2.06.94zm10 10l.94 2.06.94-2.06 2.06-.94-2.06-.94-.94-2.06-.94 2.06-2.06.94z\"/><path d=\"M17.41 7.96l-1.37-1.37c-.4-.4-.92-.59-1.43-.59-.52 0-1.04.2-1.43.59L10.3 9.45l-7.72 7.72c-.78.78-.78 2.05 0 2.83L4 21.41c.39.39.9.59 1.41.59.51 0 1.02-.2 1.41-.59l7.78-7.78 2.81-2.81c.8-.78.8-2.07 0-2.86zM5.41 20L4 18.59l7.72-7.72 1.47 1.35L5.41 20z\"/>\n",
              "  </svg>\n",
              "      </button>\n",
              "      \n",
              "  <style>\n",
              "    .colab-df-container {\n",
              "      display:flex;\n",
              "      flex-wrap:wrap;\n",
              "      gap: 12px;\n",
              "    }\n",
              "\n",
              "    .colab-df-convert {\n",
              "      background-color: #E8F0FE;\n",
              "      border: none;\n",
              "      border-radius: 50%;\n",
              "      cursor: pointer;\n",
              "      display: none;\n",
              "      fill: #1967D2;\n",
              "      height: 32px;\n",
              "      padding: 0 0 0 0;\n",
              "      width: 32px;\n",
              "    }\n",
              "\n",
              "    .colab-df-convert:hover {\n",
              "      background-color: #E2EBFA;\n",
              "      box-shadow: 0px 1px 2px rgba(60, 64, 67, 0.3), 0px 1px 3px 1px rgba(60, 64, 67, 0.15);\n",
              "      fill: #174EA6;\n",
              "    }\n",
              "\n",
              "    [theme=dark] .colab-df-convert {\n",
              "      background-color: #3B4455;\n",
              "      fill: #D2E3FC;\n",
              "    }\n",
              "\n",
              "    [theme=dark] .colab-df-convert:hover {\n",
              "      background-color: #434B5C;\n",
              "      box-shadow: 0px 1px 3px 1px rgba(0, 0, 0, 0.15);\n",
              "      filter: drop-shadow(0px 1px 2px rgba(0, 0, 0, 0.3));\n",
              "      fill: #FFFFFF;\n",
              "    }\n",
              "  </style>\n",
              "\n",
              "      <script>\n",
              "        const buttonEl =\n",
              "          document.querySelector('#df-5bcb8eb4-36a5-4ecc-af0b-e0f425769c57 button.colab-df-convert');\n",
              "        buttonEl.style.display =\n",
              "          google.colab.kernel.accessAllowed ? 'block' : 'none';\n",
              "\n",
              "        async function convertToInteractive(key) {\n",
              "          const element = document.querySelector('#df-5bcb8eb4-36a5-4ecc-af0b-e0f425769c57');\n",
              "          const dataTable =\n",
              "            await google.colab.kernel.invokeFunction('convertToInteractive',\n",
              "                                                     [key], {});\n",
              "          if (!dataTable) return;\n",
              "\n",
              "          const docLinkHtml = 'Like what you see? Visit the ' +\n",
              "            '<a target=\"_blank\" href=https://colab.research.google.com/notebooks/data_table.ipynb>data table notebook</a>'\n",
              "            + ' to learn more about interactive tables.';\n",
              "          element.innerHTML = '';\n",
              "          dataTable['output_type'] = 'display_data';\n",
              "          await google.colab.output.renderOutput(dataTable, element);\n",
              "          const docLink = document.createElement('div');\n",
              "          docLink.innerHTML = docLinkHtml;\n",
              "          element.appendChild(docLink);\n",
              "        }\n",
              "      </script>\n",
              "    </div>\n",
              "  </div>\n",
              "  "
            ]
          },
          "metadata": {},
          "execution_count": 7
        }
      ]
    },
    {
      "cell_type": "code",
      "source": [
        "flight.shape"
      ],
      "metadata": {
        "id": "r2PlTi0SvowC",
        "outputId": "7d255c75-a7d7-4d2b-9dd6-e2ccad739c53",
        "colab": {
          "base_uri": "https://localhost:8080/"
        }
      },
      "execution_count": 8,
      "outputs": [
        {
          "output_type": "execute_result",
          "data": {
            "text/plain": [
              "(1000, 12)"
            ]
          },
          "metadata": {},
          "execution_count": 8
        }
      ]
    },
    {
      "cell_type": "markdown",
      "source": [
        "**Check number of null values**"
      ],
      "metadata": {
        "id": "6ULH1VR4vxor"
      }
    },
    {
      "cell_type": "code",
      "source": [
        "flight.isnull().sum()"
      ],
      "metadata": {
        "id": "oaOIidPVvsOy",
        "outputId": "a8b612dd-7f66-443c-b29b-f2f48b5ab959",
        "colab": {
          "base_uri": "https://localhost:8080/"
        }
      },
      "execution_count": 9,
      "outputs": [
        {
          "output_type": "execute_result",
          "data": {
            "text/plain": [
              "number              0\n",
              "airline             0\n",
              "flight              0\n",
              "source_city         0\n",
              "departure_time      0\n",
              "stops               0\n",
              "arrival_time        0\n",
              "destination_city    0\n",
              "class               0\n",
              "duration            0\n",
              "lead_reservation    0\n",
              "price               0\n",
              "dtype: int64"
            ]
          },
          "metadata": {},
          "execution_count": 9
        }
      ]
    },
    {
      "cell_type": "markdown",
      "source": [
        "Check duplicates "
      ],
      "metadata": {
        "id": "efxFetLtwB3L"
      }
    },
    {
      "cell_type": "code",
      "source": [
        "flight.duplicated().sum()"
      ],
      "metadata": {
        "id": "5wZPPsydv8p0",
        "outputId": "2881c9c3-8eb6-429f-eba9-a342dc746154",
        "colab": {
          "base_uri": "https://localhost:8080/"
        }
      },
      "execution_count": 10,
      "outputs": [
        {
          "output_type": "execute_result",
          "data": {
            "text/plain": [
              "0"
            ]
          },
          "metadata": {},
          "execution_count": 10
        }
      ]
    },
    {
      "cell_type": "markdown",
      "source": [
        "number of unique data for each feature"
      ],
      "metadata": {
        "id": "1WKsNVAJwTua"
      }
    },
    {
      "cell_type": "code",
      "source": [
        "flight.nunique()"
      ],
      "metadata": {
        "id": "2tn-cBYWwJbA",
        "outputId": "53ea6329-aac8-45cc-b8a7-0e19046db81b",
        "colab": {
          "base_uri": "https://localhost:8080/"
        }
      },
      "execution_count": 11,
      "outputs": [
        {
          "output_type": "execute_result",
          "data": {
            "text/plain": [
              "number              1000\n",
              "airline                6\n",
              "flight               449\n",
              "source_city            6\n",
              "departure_time         6\n",
              "stops                  3\n",
              "arrival_time           6\n",
              "destination_city       6\n",
              "class                  2\n",
              "duration             290\n",
              "lead_reservation      49\n",
              "price                662\n",
              "dtype: int64"
            ]
          },
          "metadata": {},
          "execution_count": 11
        }
      ]
    },
    {
      "cell_type": "markdown",
      "source": [
        "As we understand from the result above, the \"number\" column is an index since its unique values are just like the size of our dataset, which is 300153.\n",
        "So, it will be dropped from our dataset."
      ],
      "metadata": {
        "id": "b-QgWZpmwgdO"
      }
    },
    {
      "cell_type": "code",
      "source": [
        "flight.drop([\"number\"], axis=1, inplace=True)"
      ],
      "metadata": {
        "id": "Qt-L5MFHwe28"
      },
      "execution_count": 12,
      "outputs": []
    },
    {
      "cell_type": "code",
      "source": [
        "flight.drop([\"flight\"], axis=1, inplace=True)"
      ],
      "metadata": {
        "id": "eW6zvZtu9EDI"
      },
      "execution_count": 13,
      "outputs": []
    },
    {
      "cell_type": "code",
      "source": [
        "flight.shape"
      ],
      "metadata": {
        "id": "OX8hT8t-x8gf",
        "outputId": "c9c7e70e-d18f-4d2e-fa8b-25b65ede1e7a",
        "colab": {
          "base_uri": "https://localhost:8080/"
        }
      },
      "execution_count": 14,
      "outputs": [
        {
          "output_type": "execute_result",
          "data": {
            "text/plain": [
              "(1000, 10)"
            ]
          },
          "metadata": {},
          "execution_count": 14
        }
      ]
    },
    {
      "cell_type": "markdown",
      "source": [
        "convert price from int to float"
      ],
      "metadata": {
        "id": "cGsAMz5A5CAt"
      }
    },
    {
      "cell_type": "code",
      "source": [
        "flight['price'] = flight['price'].astype(float)"
      ],
      "metadata": {
        "id": "PPz3R2oJ5A7d"
      },
      "execution_count": 15,
      "outputs": []
    },
    {
      "cell_type": "markdown",
      "source": [
        "**Draw histogram to view the numeric values distribution**"
      ],
      "metadata": {
        "id": "ck1JVIQWykHD"
      }
    },
    {
      "cell_type": "code",
      "source": [
        "%matplotlib inline\n",
        "import matplotlib.pyplot as plt\n",
        "flight.hist(bins=40, figsize=(20,15))\n",
        "plt.show()"
      ],
      "metadata": {
        "id": "lrYZS9_QyAGu",
        "outputId": "977e1e8f-4a9d-4fd0-cd8f-006cb45a5151",
        "colab": {
          "base_uri": "https://localhost:8080/",
          "height": 670
        }
      },
      "execution_count": 16,
      "outputs": [
        {
          "output_type": "display_data",
          "data": {
            "text/plain": [
              "<Figure size 2000x1500 with 4 Axes>"
            ],
            "image/png": "[encoded data removed]"
          },
          "metadata": {}
        }
      ]
    },
    {
      "cell_type": "markdown",
      "source": [
        "**Detect and Remove outliers** "
      ],
      "metadata": {
        "id": "vu-YkZlH5Pla"
      }
    },
    {
      "cell_type": "code",
      "source": [
        "# Create a figure and axes for box plots\n",
        "fig, axs = plt.subplots(nrows=1, ncols=3, figsize=(20,5))\n",
        "\n",
        "# Draw box plots for each feature\n",
        "sns.boxplot(x=flight['price'], ax=axs[0])\n",
        "sns.boxplot(x=flight['duration'], ax=axs[1])\n",
        "sns.boxplot(x=flight['lead_reservation'], ax=axs[2])"
      ],
      "metadata": {
        "id": "nw083p-y4BPL",
        "outputId": "fce1a780-17e2-4fad-f2fb-8b00e8292b5d",
        "colab": {
          "base_uri": "https://localhost:8080/",
          "height": 279
        }
      },
      "execution_count": 17,
      "outputs": [
        {
          "output_type": "execute_result",
          "data": {
            "text/plain": [
              "<Axes: xlabel='lead_reservation'>"
            ]
          },
          "metadata": {},
          "execution_count": 17
        },
        {
          "output_type": "display_data",
          "data": {
            "text/plain": [
              "<Figure size 2000x500 with 3 Axes>"
            ],
            "image/png": "[encoded data removed]"
          },
          "metadata": {}
        }
      ]
    },
    {
      "cell_type": "code",
      "source": [
        "Q1 = flight.quantile(0.25)\n",
        "Q3 = flight.quantile(0.75)\n",
        "IQR = Q3 - Q1\n",
        "flight = flight[~((flight < (Q1 - 1.5 * IQR)) |(flight > (Q3 + 1.5 * IQR))).any(axis=1)]"
      ],
      "metadata": {
        "id": "EJuH4_pa86fY",
        "outputId": "f05a0cda-9853-426c-f417-a0d02eb9f813",
        "colab": {
          "base_uri": "https://localhost:8080/"
        }
      },
      "execution_count": 18,
      "outputs": [
        {
          "output_type": "stream",
          "name": "stderr",
          "text": [
            "<ipython-input-18-63ea7a9fe649>:4: FutureWarning: Automatic reindexing on DataFrame vs Series comparisons is deprecated and will raise ValueError in a future version. Do `left, right = left.align(right, axis=1, copy=False)` before e.g. `left == right`\n",
            "  flight = flight[~((flight < (Q1 - 1.5 * IQR)) |(flight > (Q3 + 1.5 * IQR))).any(axis=1)]\n"
          ]
        }
      ]
    },
    {
      "cell_type": "code",
      "source": [
        "# Create a figure and axes for box plots\n",
        "fig, axs = plt.subplots(nrows=1, ncols=3, figsize=(20,5))\n",
        "\n",
        "# Draw box plots for each feature\n",
        "sns.boxplot(x=flight['price'], ax=axs[0])\n",
        "sns.boxplot(x=flight['duration'], ax=axs[1])\n",
        "sns.boxplot(x=flight['lead_reservation'], ax=axs[2])"
      ],
      "metadata": {
        "id": "hHsJeRpm73TO",
        "outputId": "383b8903-3d40-41c7-c697-cc4f7a6389fd",
        "colab": {
          "base_uri": "https://localhost:8080/",
          "height": 279
        }
      },
      "execution_count": 19,
      "outputs": [
        {
          "output_type": "execute_result",
          "data": {
            "text/plain": [
              "<Axes: xlabel='lead_reservation'>"
            ]
          },
          "metadata": {},
          "execution_count": 19
        },
        {
          "output_type": "display_data",
          "data": {
            "text/plain": [
              "<Figure size 2000x500 with 3 Axes>"
            ],
            "image/png": "[encoded data removed]"
          },
          "metadata": {}
        }
      ]
    },
    {
      "cell_type": "markdown",
      "source": [
        "we will use the StratifiedShuffleSplit to split the data keeping the same distribution of class category."
      ],
      "metadata": {
        "id": "xEj2Atuz3GOI"
      }
    },
    {
      "cell_type": "code",
      "source": [
        "flight.info()"
      ],
      "metadata": {
        "id": "55_NaR8fKSw9",
        "outputId": "00b935b0-0f01-40ec-ec9a-c0b7f6ff0776",
        "colab": {
          "base_uri": "https://localhost:8080/"
        }
      },
      "execution_count": 20,
      "outputs": [
        {
          "output_type": "stream",
          "name": "stdout",
          "text": [
            "<class 'pandas.core.frame.DataFrame'>\n",
            "Int64Index: 988 entries, 27131 to 75274\n",
            "Data columns (total 10 columns):\n",
            " #   Column            Non-Null Count  Dtype  \n",
            "---  ------            --------------  -----  \n",
            " 0   airline           988 non-null    object \n",
            " 1   source_city       988 non-null    object \n",
            " 2   departure_time    988 non-null    object \n",
            " 3   stops             988 non-null    object \n",
            " 4   arrival_time      988 non-null    object \n",
            " 5   destination_city  988 non-null    object \n",
            " 6   class             988 non-null    object \n",
            " 7   duration          988 non-null    float64\n",
            " 8   lead_reservation  988 non-null    int64  \n",
            " 9   price             988 non-null    float64\n",
            "dtypes: float64(2), int64(1), object(7)\n",
            "memory usage: 84.9+ KB\n"
          ]
        }
      ]
    },
    {
      "cell_type": "code",
      "source": [
        "flight[\"class\"].value_counts()"
      ],
      "metadata": {
        "id": "OrYpl6tjE8PB",
        "outputId": "c36d3d65-165f-4d23-a791-c2aaf314514f",
        "colab": {
          "base_uri": "https://localhost:8080/"
        }
      },
      "execution_count": 21,
      "outputs": [
        {
          "output_type": "execute_result",
          "data": {
            "text/plain": [
              "Economy     700\n",
              "Business    288\n",
              "Name: class, dtype: int64"
            ]
          },
          "metadata": {},
          "execution_count": 21
        }
      ]
    },
    {
      "cell_type": "code",
      "source": [
        "from sklearn.preprocessing import OneHotEncoder\n",
        "class1 = flight[[\"class\"]]\n",
        "cat_encoder = OneHotEncoder()\n",
        "class_1hot = cat_encoder.fit_transform(class1)"
      ],
      "metadata": {
        "id": "MDE1-JRR_-Ds"
      },
      "execution_count": 22,
      "outputs": []
    },
    {
      "cell_type": "code",
      "source": [
        "from sklearn.preprocessing import OneHotEncoder\n",
        "class1 = flight[[\"stops\"]]\n",
        "cat_encoder = OneHotEncoder()\n",
        "class_1hot = cat_encoder.fit_transform(class1)"
      ],
      "metadata": {
        "id": "P2yMR30YIwVS"
      },
      "execution_count": 23,
      "outputs": []
    },
    {
      "cell_type": "code",
      "source": [
        "class_1hot.shape"
      ],
      "metadata": {
        "colab": {
          "base_uri": "https://localhost:8080/"
        },
        "id": "4ByW643bI4gC",
        "outputId": "447e9636-48e9-42d6-bbb1-c7a378eb9fcb"
      },
      "execution_count": 24,
      "outputs": [
        {
          "output_type": "execute_result",
          "data": {
            "text/plain": [
              "(988, 3)"
            ]
          },
          "metadata": {},
          "execution_count": 24
        }
      ]
    },
    {
      "cell_type": "code",
      "source": [
        "flight.info()"
      ],
      "metadata": {
        "colab": {
          "base_uri": "https://localhost:8080/"
        },
        "id": "t5VJ8NI7BN4C",
        "outputId": "34a20543-c275-4bf0-922a-23293a21ae2b"
      },
      "execution_count": 25,
      "outputs": [
        {
          "output_type": "stream",
          "name": "stdout",
          "text": [
            "<class 'pandas.core.frame.DataFrame'>\n",
            "Int64Index: 988 entries, 27131 to 75274\n",
            "Data columns (total 10 columns):\n",
            " #   Column            Non-Null Count  Dtype  \n",
            "---  ------            --------------  -----  \n",
            " 0   airline           988 non-null    object \n",
            " 1   source_city       988 non-null    object \n",
            " 2   departure_time    988 non-null    object \n",
            " 3   stops             988 non-null    object \n",
            " 4   arrival_time      988 non-null    object \n",
            " 5   destination_city  988 non-null    object \n",
            " 6   class             988 non-null    object \n",
            " 7   duration          988 non-null    float64\n",
            " 8   lead_reservation  988 non-null    int64  \n",
            " 9   price             988 non-null    float64\n",
            "dtypes: float64(2), int64(1), object(7)\n",
            "memory usage: 84.9+ KB\n"
          ]
        }
      ]
    },
    {
      "cell_type": "code",
      "source": [
        "flight[\"class1\"] = pd.cut(flight[\"class\"], bins = [], labels = [0,1])\n",
        "flight[\"class1\"].hist()"
      ],
      "metadata": {
        "colab": {
          "base_uri": "https://localhost:8080/",
          "height": 346
        },
        "id": "pNcBfj8P204o",
        "outputId": "75cd5c54-fddb-4517-a5f8-6eb12afcc7f2"
      },
      "execution_count": 26,
      "outputs": [
        {
          "output_type": "error",
          "ename": "ValueError",
          "evalue": "ignored",
          "traceback": [
            "\u001b[0;31m---------------------------------------------------------------------------\u001b[0m",
            "\u001b[0;31mValueError\u001b[0m                                Traceback (most recent call last)",
            "\u001b[0;32m<ipython-input-26-97ff3433c943>\u001b[0m in \u001b[0;36m<cell line: 1>\u001b[0;34m()\u001b[0m\n\u001b[0;32m----> 1\u001b[0;31m \u001b[0mflight\u001b[0m\u001b[0;34m[\u001b[0m\u001b[0;34m\"class1\"\u001b[0m\u001b[0;34m]\u001b[0m \u001b[0;34m=\u001b[0m \u001b[0mpd\u001b[0m\u001b[0;34m.\u001b[0m\u001b[0mcut\u001b[0m\u001b[0;34m(\u001b[0m\u001b[0mflight\u001b[0m\u001b[0;34m[\u001b[0m\u001b[0;34m\"class\"\u001b[0m\u001b[0;34m]\u001b[0m\u001b[0;34m,\u001b[0m \u001b[0mbins\u001b[0m \u001b[0;34m=\u001b[0m \u001b[0;34m[\u001b[0m\u001b[0;34m]\u001b[0m\u001b[0;34m,\u001b[0m \u001b[0mlabels\u001b[0m \u001b[0;34m=\u001b[0m \u001b[0;34m[\u001b[0m\u001b[0;36m0\u001b[0m\u001b[0;34m,\u001b[0m\u001b[0;36m1\u001b[0m\u001b[0;34m]\u001b[0m\u001b[0;34m)\u001b[0m\u001b[0;34m\u001b[0m\u001b[0;34m\u001b[0m\u001b[0m\n\u001b[0m\u001b[1;32m      2\u001b[0m \u001b[0mflight\u001b[0m\u001b[0;34m[\u001b[0m\u001b[0;34m\"class1\"\u001b[0m\u001b[0;34m]\u001b[0m\u001b[0;34m.\u001b[0m\u001b[0mhist\u001b[0m\u001b[0;34m(\u001b[0m\u001b[0;34m)\u001b[0m\u001b[0;34m\u001b[0m\u001b[0;34m\u001b[0m\u001b[0m\n",
            "\u001b[0;32m/usr/local/lib/python3.9/dist-packages/pandas/core/reshape/tile.py\u001b[0m in \u001b[0;36mcut\u001b[0;34m(x, bins, right, labels, retbins, precision, include_lowest, duplicates, ordered)\u001b[0m\n\u001b[1;32m    290\u001b[0m             \u001b[0;32mraise\u001b[0m \u001b[0mValueError\u001b[0m\u001b[0;34m(\u001b[0m\u001b[0;34m\"bins must increase monotonically.\"\u001b[0m\u001b[0;34m)\u001b[0m\u001b[0;34m\u001b[0m\u001b[0;34m\u001b[0m\u001b[0m\n\u001b[1;32m    291\u001b[0m \u001b[0;34m\u001b[0m\u001b[0m\n\u001b[0;32m--> 292\u001b[0;31m     fac, bins = _bins_to_cuts(\n\u001b[0m\u001b[1;32m    293\u001b[0m         \u001b[0mx\u001b[0m\u001b[0;34m,\u001b[0m\u001b[0;34m\u001b[0m\u001b[0;34m\u001b[0m\u001b[0m\n\u001b[1;32m    294\u001b[0m         \u001b[0mbins\u001b[0m\u001b[0;34m,\u001b[0m\u001b[0;34m\u001b[0m\u001b[0;34m\u001b[0m\u001b[0m\n",
            "\u001b[0;32m/usr/local/lib/python3.9/dist-packages/pandas/core/reshape/tile.py\u001b[0m in \u001b[0;36m_bins_to_cuts\u001b[0;34m(x, bins, right, labels, precision, include_lowest, dtype, duplicates, ordered)\u001b[0m\n\u001b[1;32m    451\u001b[0m         \u001b[0;32melse\u001b[0m\u001b[0;34m:\u001b[0m\u001b[0;34m\u001b[0m\u001b[0;34m\u001b[0m\u001b[0m\n\u001b[1;32m    452\u001b[0m             \u001b[0;32mif\u001b[0m \u001b[0mlen\u001b[0m\u001b[0;34m(\u001b[0m\u001b[0mlabels\u001b[0m\u001b[0;34m)\u001b[0m \u001b[0;34m!=\u001b[0m \u001b[0mlen\u001b[0m\u001b[0;34m(\u001b[0m\u001b[0mbins\u001b[0m\u001b[0;34m)\u001b[0m \u001b[0;34m-\u001b[0m \u001b[0;36m1\u001b[0m\u001b[0;34m:\u001b[0m\u001b[0;34m\u001b[0m\u001b[0;34m\u001b[0m\u001b[0m\n\u001b[0;32m--> 453\u001b[0;31m                 raise ValueError(\n\u001b[0m\u001b[1;32m    454\u001b[0m                     \u001b[0;34m\"Bin labels must be one fewer than the number of bin edges\"\u001b[0m\u001b[0;34m\u001b[0m\u001b[0;34m\u001b[0m\u001b[0m\n\u001b[1;32m    455\u001b[0m                 )\n",
            "\u001b[0;31mValueError\u001b[0m: Bin labels must be one fewer than the number of bin edges"
          ]
        }
      ]
    },
    {
      "cell_type": "markdown",
      "source": [
        "### **Get the size of taining set and test set**"
      ],
      "metadata": {
        "id": "DnxANsmZAOCx"
      }
    },
    {
      "cell_type": "code",
      "source": [
        "#using Scikit-Learn train_test_split()\n",
        "train_set, test_set = train_test_split(flight, test_size=0.2, random_state=42)\n",
        "print(\"size of training data\",len(train_set))\n",
        "print(\"size of testing data\",len(test_set))"
      ],
      "metadata": {
        "id": "CwB6_dzBAJiH"
      },
      "execution_count": null,
      "outputs": []
    },
    {
      "cell_type": "code",
      "source": [
        "#Split the dataset into training and testing sets using StratifiedShuffleSplit based on the Class column\n",
        "split = StratifiedShuffleSplit(n_splits=1, test_size=0.2, random_state=42)\n",
        "for train_index, test_index in split.split(flight, flight[\"class1\"]):\n",
        "    strat_train_set = flight.loc[train_index]\n",
        "    strat_test_set = flight.loc[test_index]"
      ],
      "metadata": {
        "id": "95ULI9a73SLL"
      },
      "execution_count": null,
      "outputs": []
    },
    {
      "cell_type": "code",
      "source": [
        "#strat_test_set[\"class1\"].value_counts()/ len(strat_test_set)"
      ],
      "metadata": {
        "id": "QzTQG1Ua3rYB"
      },
      "execution_count": null,
      "outputs": []
    },
    {
      "cell_type": "code",
      "source": [
        "#strat_train_set[\"class1\"].value_counts()/ len(strat_train_set)"
      ],
      "metadata": {
        "id": "oz-Hjbcz3vFG"
      },
      "execution_count": null,
      "outputs": []
    },
    {
      "cell_type": "code",
      "source": [
        "##flight[\"class1\"].value_counts()/ len(data)"
      ],
      "metadata": {
        "id": "dWtg2tu73yQR"
      },
      "execution_count": null,
      "outputs": []
    },
    {
      "cell_type": "code",
      "source": [
        "##for set_ in (strat_train_set, strat_test_set):\n",
        "  ##set_.drop(\"class1\", axis=1, inplace=True)"
      ],
      "metadata": {
        "id": "Jk62KC3a4PLt"
      },
      "execution_count": null,
      "outputs": []
    },
    {
      "cell_type": "code",
      "source": [
        "##strat_train_set.info()"
      ],
      "metadata": {
        "id": "0Jwl0dYX31cH"
      },
      "execution_count": null,
      "outputs": []
    },
    {
      "cell_type": "markdown",
      "source": [
        "**Correlation matrix**"
      ],
      "metadata": {
        "id": "JPWej-sr5oeY"
      }
    },
    {
      "cell_type": "code",
      "source": [
        "##flight = strat_train_set.copy()\n",
        "corr_matrix= flight.corr()\n",
        "corr_matrix[\"price\"].sort_values(ascending=False)"
      ],
      "metadata": {
        "id": "w0_3PgKE5jm2"
      },
      "execution_count": null,
      "outputs": []
    },
    {
      "cell_type": "code",
      "source": [
        "corr_matrix"
      ],
      "metadata": {
        "id": "GAmLewPt5oC2"
      },
      "execution_count": null,
      "outputs": []
    },
    {
      "cell_type": "code",
      "source": [
        "print(flight[\"stops\"].isnull().sum())"
      ],
      "metadata": {
        "id": "a2PA0OmgP3ra"
      },
      "execution_count": null,
      "outputs": []
    },
    {
      "cell_type": "code",
      "source": [
        "from pandas.plotting import scatter_matrix\n",
        "attributes=[\"duration\",\"class\",\"lead_reservation\",\"price\"]\n",
        "scatter_matrix(flight[attributes], figsize=(12,8))"
      ],
      "metadata": {
        "id": "PPs7_WeT5wTt"
      },
      "execution_count": null,
      "outputs": []
    },
    {
      "cell_type": "code",
      "source": [
        "flight['stops'].value_counts()"
      ],
      "metadata": {
        "id": "ANYi00hb53xw"
      },
      "execution_count": null,
      "outputs": []
    },
    {
      "cell_type": "markdown",
      "source": [
        "### **Random Forest**"
      ],
      "metadata": {
        "id": "or7rlqYEZ2gI"
      }
    },
    {
      "cell_type": "code",
      "source": [
        "flightX = train_set.drop(\"price\", axis =1)\n",
        "flightX = train_set[\"price\"].copy()\n",
        "X_train, X_test, y_train, y_test = train_test_split(flightX, flightX, test_size=0.2, random_state=42)"
      ],
      "metadata": {
        "id": "BKpiXcCwaVM0"
      },
      "execution_count": null,
      "outputs": []
    },
    {
      "cell_type": "code",
      "source": [],
      "metadata": {
        "id": "C93lEERhbOrg"
      },
      "execution_count": null,
      "outputs": []
    }
  ]
}