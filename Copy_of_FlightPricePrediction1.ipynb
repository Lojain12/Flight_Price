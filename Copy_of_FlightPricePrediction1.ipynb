{
  "nbformat": 4,
  "nbformat_minor": 0,
  "metadata": {
    "colab": {
      "provenance": [],
      "include_colab_link": true
    },
    "kernelspec": {
      "name": "python3",
      "display_name": "Python 3"
    },
    "language_info": {
      "name": "python"
    }
  },
  "cells": [
    {
      "cell_type": "markdown",
      "metadata": {
        "id": "view-in-github",
        "colab_type": "text"
      },
      "source": [
        "<a href=\"https://colab.research.google.com/github/Lojain12/Flight_Price/blob/main/Copy_of_FlightPricePrediction1.ipynb\" target=\"_parent\"><img src=\"https://colab.research.google.com/assets/colab-badge.svg\" alt=\"Open In Colab\"/></a>"
      ]
    },
    {
      "cell_type": "markdown",
      "source": [
        "# **Flight price prediction**\n",
        "### Our goal is to build supervised Natural Language Processing (NLP) machine learning models to predict the price of a flight."
      ],
      "metadata": {
        "id": "tvBr1y8yttm6"
      }
    },
    {
      "cell_type": "markdown",
      "source": [
        "### **Import Libaries**"
      ],
      "metadata": {
        "id": "dSxhsDsottaq"
      }
    },
    {
      "cell_type": "code",
      "execution_count": 597,
      "metadata": {
        "id": "RueiSeRnqtOt"
      },
      "outputs": [],
      "source": [
        "import numpy as np\n",
        "import pandas as pd\n",
        "import scipy as sp\n",
        "import sklearn as sk\n",
        "import os\n",
        "import tarfile\n",
        "import urllib\n",
        "\n",
        "import matplotlib.pyplot as plt\n",
        "import seaborn as sns\n",
        "import plotly.express as px\n",
        "import plotly.graph_objs as go\n",
        "from sklearn.model_selection import train_test_split\n",
        "from sklearn.model_selection import StratifiedShuffleSplit\n",
        "from sklearn.metrics import mean_squared_error\n",
        "from sklearn.metrics import r2_score\n",
        "from sklearn.model_selection import cross_val_score\n"
      ]
    },
    {
      "cell_type": "markdown",
      "source": [
        "### **Load the data**"
      ],
      "metadata": {
        "id": "sw1bwZi9uuY8"
      }
    },
    {
      "cell_type": "code",
      "source": [
        "flight = pd.read_csv(\"Flight_price.csv\")\n",
        "flight.head()"
      ],
      "metadata": {
        "id": "QTuZ_BGmutvM",
        "colab": {
          "base_uri": "https://localhost:8080/",
          "height": 339
        },
        "outputId": "83794390-e9ac-4c35-e28e-68c30edc01bb"
      },
      "execution_count": 598,
      "outputs": [
        {
          "output_type": "execute_result",
          "data": {
            "text/plain": [
              "   number   airline   flight source_city departure_time stops   arrival_time  \\\n",
              "0       0  SpiceJet  SG-8709       Delhi        Evening  zero          Night   \n",
              "1       1  SpiceJet  SG-8157       Delhi  Early_Morning  zero        Morning   \n",
              "2       2   AirAsia   I5-764       Delhi  Early_Morning  zero  Early_Morning   \n",
              "3       3   Vistara   UK-995       Delhi        Morning  zero      Afternoon   \n",
              "4       4   Vistara   UK-963       Delhi        Morning  zero        Morning   \n",
              "\n",
              "  destination_city    class  duration  lead_reservation  price  \n",
              "0           Mumbai  Economy      2.17                 1   5953  \n",
              "1           Mumbai  Economy      2.33                 1   5953  \n",
              "2           Mumbai  Economy      2.17                 1   5956  \n",
              "3           Mumbai  Economy      2.25                 1   5955  \n",
              "4           Mumbai  Economy      2.33                 1   5955  "
            ],
            "text/html": [
              "\n",
              "  <div id=\"df-b16b901e-b4c6-4f65-b66a-7a2f6053a3e9\">\n",
              "    <div class=\"colab-df-container\">\n",
              "      <div>\n",
              "<style scoped>\n",
              "    .dataframe tbody tr th:only-of-type {\n",
              "        vertical-align: middle;\n",
              "    }\n",
              "\n",
              "    .dataframe tbody tr th {\n",
              "        vertical-align: top;\n",
              "    }\n",
              "\n",
              "    .dataframe thead th {\n",
              "        text-align: right;\n",
              "    }\n",
              "</style>\n",
              "<table border=\"1\" class=\"dataframe\">\n",
              "  <thead>\n",
              "    <tr style=\"text-align: right;\">\n",
              "      <th></th>\n",
              "      <th>number</th>\n",
              "      <th>airline</th>\n",
              "      <th>flight</th>\n",
              "      <th>source_city</th>\n",
              "      <th>departure_time</th>\n",
              "      <th>stops</th>\n",
              "      <th>arrival_time</th>\n",
              "      <th>destination_city</th>\n",
              "      <th>class</th>\n",
              "      <th>duration</th>\n",
              "      <th>lead_reservation</th>\n",
              "      <th>price</th>\n",
              "    </tr>\n",
              "  </thead>\n",
              "  <tbody>\n",
              "    <tr>\n",
              "      <th>0</th>\n",
              "      <td>0</td>\n",
              "      <td>SpiceJet</td>\n",
              "      <td>SG-8709</td>\n",
              "      <td>Delhi</td>\n",
              "      <td>Evening</td>\n",
              "      <td>zero</td>\n",
              "      <td>Night</td>\n",
              "      <td>Mumbai</td>\n",
              "      <td>Economy</td>\n",
              "      <td>2.17</td>\n",
              "      <td>1</td>\n",
              "      <td>5953</td>\n",
              "    </tr>\n",
              "    <tr>\n",
              "      <th>1</th>\n",
              "      <td>1</td>\n",
              "      <td>SpiceJet</td>\n",
              "      <td>SG-8157</td>\n",
              "      <td>Delhi</td>\n",
              "      <td>Early_Morning</td>\n",
              "      <td>zero</td>\n",
              "      <td>Morning</td>\n",
              "      <td>Mumbai</td>\n",
              "      <td>Economy</td>\n",
              "      <td>2.33</td>\n",
              "      <td>1</td>\n",
              "      <td>5953</td>\n",
              "    </tr>\n",
              "    <tr>\n",
              "      <th>2</th>\n",
              "      <td>2</td>\n",
              "      <td>AirAsia</td>\n",
              "      <td>I5-764</td>\n",
              "      <td>Delhi</td>\n",
              "      <td>Early_Morning</td>\n",
              "      <td>zero</td>\n",
              "      <td>Early_Morning</td>\n",
              "      <td>Mumbai</td>\n",
              "      <td>Economy</td>\n",
              "      <td>2.17</td>\n",
              "      <td>1</td>\n",
              "      <td>5956</td>\n",
              "    </tr>\n",
              "    <tr>\n",
              "      <th>3</th>\n",
              "      <td>3</td>\n",
              "      <td>Vistara</td>\n",
              "      <td>UK-995</td>\n",
              "      <td>Delhi</td>\n",
              "      <td>Morning</td>\n",
              "      <td>zero</td>\n",
              "      <td>Afternoon</td>\n",
              "      <td>Mumbai</td>\n",
              "      <td>Economy</td>\n",
              "      <td>2.25</td>\n",
              "      <td>1</td>\n",
              "      <td>5955</td>\n",
              "    </tr>\n",
              "    <tr>\n",
              "      <th>4</th>\n",
              "      <td>4</td>\n",
              "      <td>Vistara</td>\n",
              "      <td>UK-963</td>\n",
              "      <td>Delhi</td>\n",
              "      <td>Morning</td>\n",
              "      <td>zero</td>\n",
              "      <td>Morning</td>\n",
              "      <td>Mumbai</td>\n",
              "      <td>Economy</td>\n",
              "      <td>2.33</td>\n",
              "      <td>1</td>\n",
              "      <td>5955</td>\n",
              "    </tr>\n",
              "  </tbody>\n",
              "</table>\n",
              "</div>\n",
              "      <button class=\"colab-df-convert\" onclick=\"convertToInteractive('df-b16b901e-b4c6-4f65-b66a-7a2f6053a3e9')\"\n",
              "              title=\"Convert this dataframe to an interactive table.\"\n",
              "              style=\"display:none;\">\n",
              "        \n",
              "  <svg xmlns=\"http://www.w3.org/2000/svg\" height=\"24px\"viewBox=\"0 0 24 24\"\n",
              "       width=\"24px\">\n",
              "    <path d=\"M0 0h24v24H0V0z\" fill=\"none\"/>\n",
              "    <path d=\"M18.56 5.44l.94 2.06.94-2.06 2.06-.94-2.06-.94-.94-2.06-.94 2.06-2.06.94zm-11 1L8.5 8.5l.94-2.06 2.06-.94-2.06-.94L8.5 2.5l-.94 2.06-2.06.94zm10 10l.94 2.06.94-2.06 2.06-.94-2.06-.94-.94-2.06-.94 2.06-2.06.94z\"/><path d=\"M17.41 7.96l-1.37-1.37c-.4-.4-.92-.59-1.43-.59-.52 0-1.04.2-1.43.59L10.3 9.45l-7.72 7.72c-.78.78-.78 2.05 0 2.83L4 21.41c.39.39.9.59 1.41.59.51 0 1.02-.2 1.41-.59l7.78-7.78 2.81-2.81c.8-.78.8-2.07 0-2.86zM5.41 20L4 18.59l7.72-7.72 1.47 1.35L5.41 20z\"/>\n",
              "  </svg>\n",
              "      </button>\n",
              "      \n",
              "  <style>\n",
              "    .colab-df-container {\n",
              "      display:flex;\n",
              "      flex-wrap:wrap;\n",
              "      gap: 12px;\n",
              "    }\n",
              "\n",
              "    .colab-df-convert {\n",
              "      background-color: #E8F0FE;\n",
              "      border: none;\n",
              "      border-radius: 50%;\n",
              "      cursor: pointer;\n",
              "      display: none;\n",
              "      fill: #1967D2;\n",
              "      height: 32px;\n",
              "      padding: 0 0 0 0;\n",
              "      width: 32px;\n",
              "    }\n",
              "\n",
              "    .colab-df-convert:hover {\n",
              "      background-color: #E2EBFA;\n",
              "      box-shadow: 0px 1px 2px rgba(60, 64, 67, 0.3), 0px 1px 3px 1px rgba(60, 64, 67, 0.15);\n",
              "      fill: #174EA6;\n",
              "    }\n",
              "\n",
              "    [theme=dark] .colab-df-convert {\n",
              "      background-color: #3B4455;\n",
              "      fill: #D2E3FC;\n",
              "    }\n",
              "\n",
              "    [theme=dark] .colab-df-convert:hover {\n",
              "      background-color: #434B5C;\n",
              "      box-shadow: 0px 1px 3px 1px rgba(0, 0, 0, 0.15);\n",
              "      filter: drop-shadow(0px 1px 2px rgba(0, 0, 0, 0.3));\n",
              "      fill: #FFFFFF;\n",
              "    }\n",
              "  </style>\n",
              "\n",
              "      <script>\n",
              "        const buttonEl =\n",
              "          document.querySelector('#df-b16b901e-b4c6-4f65-b66a-7a2f6053a3e9 button.colab-df-convert');\n",
              "        buttonEl.style.display =\n",
              "          google.colab.kernel.accessAllowed ? 'block' : 'none';\n",
              "\n",
              "        async function convertToInteractive(key) {\n",
              "          const element = document.querySelector('#df-b16b901e-b4c6-4f65-b66a-7a2f6053a3e9');\n",
              "          const dataTable =\n",
              "            await google.colab.kernel.invokeFunction('convertToInteractive',\n",
              "                                                     [key], {});\n",
              "          if (!dataTable) return;\n",
              "\n",
              "          const docLinkHtml = 'Like what you see? Visit the ' +\n",
              "            '<a target=\"_blank\" href=https://colab.research.google.com/notebooks/data_table.ipynb>data table notebook</a>'\n",
              "            + ' to learn more about interactive tables.';\n",
              "          element.innerHTML = '';\n",
              "          dataTable['output_type'] = 'display_data';\n",
              "          await google.colab.output.renderOutput(dataTable, element);\n",
              "          const docLink = document.createElement('div');\n",
              "          docLink.innerHTML = docLinkHtml;\n",
              "          element.appendChild(docLink);\n",
              "        }\n",
              "      </script>\n",
              "    </div>\n",
              "  </div>\n",
              "  "
            ]
          },
          "metadata": {},
          "execution_count": 598
        }
      ]
    },
    {
      "cell_type": "markdown",
      "source": [
        "Take a 100,000 sample"
      ],
      "metadata": {
        "id": "xddlZ4Hq_rmx"
      }
    },
    {
      "cell_type": "code",
      "source": [
        "flight = flight.sample(n=50000, random_state=42)"
      ],
      "metadata": {
        "id": "IIjmbimI_rAZ"
      },
      "execution_count": 599,
      "outputs": []
    },
    {
      "cell_type": "markdown",
      "source": [
        "### **View data**"
      ],
      "metadata": {
        "id": "Rme_P7PwvReG"
      }
    },
    {
      "cell_type": "code",
      "source": [
        "flight.info()"
      ],
      "metadata": {
        "id": "ERoa4lgYvSCd",
        "colab": {
          "base_uri": "https://localhost:8080/"
        },
        "outputId": "474da322-4bed-40b4-85e6-f0796dd8738a"
      },
      "execution_count": 600,
      "outputs": [
        {
          "output_type": "stream",
          "name": "stdout",
          "text": [
            "<class 'pandas.core.frame.DataFrame'>\n",
            "Int64Index: 50000 entries, 27131 to 15601\n",
            "Data columns (total 12 columns):\n",
            " #   Column            Non-Null Count  Dtype  \n",
            "---  ------            --------------  -----  \n",
            " 0   number            50000 non-null  int64  \n",
            " 1   airline           50000 non-null  object \n",
            " 2   flight            50000 non-null  object \n",
            " 3   source_city       50000 non-null  object \n",
            " 4   departure_time    50000 non-null  object \n",
            " 5   stops             50000 non-null  object \n",
            " 6   arrival_time      50000 non-null  object \n",
            " 7   destination_city  50000 non-null  object \n",
            " 8   class             50000 non-null  object \n",
            " 9   duration          50000 non-null  float64\n",
            " 10  lead_reservation  50000 non-null  int64  \n",
            " 11  price             50000 non-null  int64  \n",
            "dtypes: float64(1), int64(3), object(8)\n",
            "memory usage: 5.0+ MB\n"
          ]
        }
      ]
    },
    {
      "cell_type": "code",
      "source": [
        "flight.describe()"
      ],
      "metadata": {
        "id": "lakpuVBavdx8",
        "colab": {
          "base_uri": "https://localhost:8080/",
          "height": 300
        },
        "outputId": "d4c7d1df-df8e-4fd0-ff0e-5418f79a0799"
      },
      "execution_count": 601,
      "outputs": [
        {
          "output_type": "execute_result",
          "data": {
            "text/plain": [
              "             number      duration  lead_reservation          price\n",
              "count   50000.00000  50000.000000      50000.000000   50000.000000\n",
              "mean   150015.80588     12.245605         26.012500   20827.466020\n",
              "std     86528.55104      7.179290         13.531321   22658.672268\n",
              "min         0.00000      0.830000          1.000000    1105.000000\n",
              "25%     75307.50000      6.830000         15.000000    4784.000000\n",
              "50%    150187.50000     11.250000         26.000000    7424.000000\n",
              "75%    224778.25000     16.170000         38.000000   42521.000000\n",
              "max    300152.00000     47.750000         49.000000  114705.000000"
            ],
            "text/html": [
              "\n",
              "  <div id=\"df-57d5836d-3f56-4581-9a23-ff383ad1fee6\">\n",
              "    <div class=\"colab-df-container\">\n",
              "      <div>\n",
              "<style scoped>\n",
              "    .dataframe tbody tr th:only-of-type {\n",
              "        vertical-align: middle;\n",
              "    }\n",
              "\n",
              "    .dataframe tbody tr th {\n",
              "        vertical-align: top;\n",
              "    }\n",
              "\n",
              "    .dataframe thead th {\n",
              "        text-align: right;\n",
              "    }\n",
              "</style>\n",
              "<table border=\"1\" class=\"dataframe\">\n",
              "  <thead>\n",
              "    <tr style=\"text-align: right;\">\n",
              "      <th></th>\n",
              "      <th>number</th>\n",
              "      <th>duration</th>\n",
              "      <th>lead_reservation</th>\n",
              "      <th>price</th>\n",
              "    </tr>\n",
              "  </thead>\n",
              "  <tbody>\n",
              "    <tr>\n",
              "      <th>count</th>\n",
              "      <td>50000.00000</td>\n",
              "      <td>50000.000000</td>\n",
              "      <td>50000.000000</td>\n",
              "      <td>50000.000000</td>\n",
              "    </tr>\n",
              "    <tr>\n",
              "      <th>mean</th>\n",
              "      <td>150015.80588</td>\n",
              "      <td>12.245605</td>\n",
              "      <td>26.012500</td>\n",
              "      <td>20827.466020</td>\n",
              "    </tr>\n",
              "    <tr>\n",
              "      <th>std</th>\n",
              "      <td>86528.55104</td>\n",
              "      <td>7.179290</td>\n",
              "      <td>13.531321</td>\n",
              "      <td>22658.672268</td>\n",
              "    </tr>\n",
              "    <tr>\n",
              "      <th>min</th>\n",
              "      <td>0.00000</td>\n",
              "      <td>0.830000</td>\n",
              "      <td>1.000000</td>\n",
              "      <td>1105.000000</td>\n",
              "    </tr>\n",
              "    <tr>\n",
              "      <th>25%</th>\n",
              "      <td>75307.50000</td>\n",
              "      <td>6.830000</td>\n",
              "      <td>15.000000</td>\n",
              "      <td>4784.000000</td>\n",
              "    </tr>\n",
              "    <tr>\n",
              "      <th>50%</th>\n",
              "      <td>150187.50000</td>\n",
              "      <td>11.250000</td>\n",
              "      <td>26.000000</td>\n",
              "      <td>7424.000000</td>\n",
              "    </tr>\n",
              "    <tr>\n",
              "      <th>75%</th>\n",
              "      <td>224778.25000</td>\n",
              "      <td>16.170000</td>\n",
              "      <td>38.000000</td>\n",
              "      <td>42521.000000</td>\n",
              "    </tr>\n",
              "    <tr>\n",
              "      <th>max</th>\n",
              "      <td>300152.00000</td>\n",
              "      <td>47.750000</td>\n",
              "      <td>49.000000</td>\n",
              "      <td>114705.000000</td>\n",
              "    </tr>\n",
              "  </tbody>\n",
              "</table>\n",
              "</div>\n",
              "      <button class=\"colab-df-convert\" onclick=\"convertToInteractive('df-57d5836d-3f56-4581-9a23-ff383ad1fee6')\"\n",
              "              title=\"Convert this dataframe to an interactive table.\"\n",
              "              style=\"display:none;\">\n",
              "        \n",
              "  <svg xmlns=\"http://www.w3.org/2000/svg\" height=\"24px\"viewBox=\"0 0 24 24\"\n",
              "       width=\"24px\">\n",
              "    <path d=\"M0 0h24v24H0V0z\" fill=\"none\"/>\n",
              "    <path d=\"M18.56 5.44l.94 2.06.94-2.06 2.06-.94-2.06-.94-.94-2.06-.94 2.06-2.06.94zm-11 1L8.5 8.5l.94-2.06 2.06-.94-2.06-.94L8.5 2.5l-.94 2.06-2.06.94zm10 10l.94 2.06.94-2.06 2.06-.94-2.06-.94-.94-2.06-.94 2.06-2.06.94z\"/><path d=\"M17.41 7.96l-1.37-1.37c-.4-.4-.92-.59-1.43-.59-.52 0-1.04.2-1.43.59L10.3 9.45l-7.72 7.72c-.78.78-.78 2.05 0 2.83L4 21.41c.39.39.9.59 1.41.59.51 0 1.02-.2 1.41-.59l7.78-7.78 2.81-2.81c.8-.78.8-2.07 0-2.86zM5.41 20L4 18.59l7.72-7.72 1.47 1.35L5.41 20z\"/>\n",
              "  </svg>\n",
              "      </button>\n",
              "      \n",
              "  <style>\n",
              "    .colab-df-container {\n",
              "      display:flex;\n",
              "      flex-wrap:wrap;\n",
              "      gap: 12px;\n",
              "    }\n",
              "\n",
              "    .colab-df-convert {\n",
              "      background-color: #E8F0FE;\n",
              "      border: none;\n",
              "      border-radius: 50%;\n",
              "      cursor: pointer;\n",
              "      display: none;\n",
              "      fill: #1967D2;\n",
              "      height: 32px;\n",
              "      padding: 0 0 0 0;\n",
              "      width: 32px;\n",
              "    }\n",
              "\n",
              "    .colab-df-convert:hover {\n",
              "      background-color: #E2EBFA;\n",
              "      box-shadow: 0px 1px 2px rgba(60, 64, 67, 0.3), 0px 1px 3px 1px rgba(60, 64, 67, 0.15);\n",
              "      fill: #174EA6;\n",
              "    }\n",
              "\n",
              "    [theme=dark] .colab-df-convert {\n",
              "      background-color: #3B4455;\n",
              "      fill: #D2E3FC;\n",
              "    }\n",
              "\n",
              "    [theme=dark] .colab-df-convert:hover {\n",
              "      background-color: #434B5C;\n",
              "      box-shadow: 0px 1px 3px 1px rgba(0, 0, 0, 0.15);\n",
              "      filter: drop-shadow(0px 1px 2px rgba(0, 0, 0, 0.3));\n",
              "      fill: #FFFFFF;\n",
              "    }\n",
              "  </style>\n",
              "\n",
              "      <script>\n",
              "        const buttonEl =\n",
              "          document.querySelector('#df-57d5836d-3f56-4581-9a23-ff383ad1fee6 button.colab-df-convert');\n",
              "        buttonEl.style.display =\n",
              "          google.colab.kernel.accessAllowed ? 'block' : 'none';\n",
              "\n",
              "        async function convertToInteractive(key) {\n",
              "          const element = document.querySelector('#df-57d5836d-3f56-4581-9a23-ff383ad1fee6');\n",
              "          const dataTable =\n",
              "            await google.colab.kernel.invokeFunction('convertToInteractive',\n",
              "                                                     [key], {});\n",
              "          if (!dataTable) return;\n",
              "\n",
              "          const docLinkHtml = 'Like what you see? Visit the ' +\n",
              "            '<a target=\"_blank\" href=https://colab.research.google.com/notebooks/data_table.ipynb>data table notebook</a>'\n",
              "            + ' to learn more about interactive tables.';\n",
              "          element.innerHTML = '';\n",
              "          dataTable['output_type'] = 'display_data';\n",
              "          await google.colab.output.renderOutput(dataTable, element);\n",
              "          const docLink = document.createElement('div');\n",
              "          docLink.innerHTML = docLinkHtml;\n",
              "          element.appendChild(docLink);\n",
              "        }\n",
              "      </script>\n",
              "    </div>\n",
              "  </div>\n",
              "  "
            ]
          },
          "metadata": {},
          "execution_count": 601
        }
      ]
    },
    {
      "cell_type": "code",
      "source": [
        "flight.shape"
      ],
      "metadata": {
        "id": "r2PlTi0SvowC",
        "colab": {
          "base_uri": "https://localhost:8080/"
        },
        "outputId": "247847c9-3ceb-4f31-9e53-e99bb9698620"
      },
      "execution_count": 602,
      "outputs": [
        {
          "output_type": "execute_result",
          "data": {
            "text/plain": [
              "(50000, 12)"
            ]
          },
          "metadata": {},
          "execution_count": 602
        }
      ]
    },
    {
      "cell_type": "markdown",
      "source": [
        "**Check number of null values**"
      ],
      "metadata": {
        "id": "6ULH1VR4vxor"
      }
    },
    {
      "cell_type": "code",
      "source": [
        "flight.isnull().sum()"
      ],
      "metadata": {
        "id": "oaOIidPVvsOy",
        "colab": {
          "base_uri": "https://localhost:8080/"
        },
        "outputId": "d5d57fc4-3594-4cef-b250-c2f700beef25"
      },
      "execution_count": 603,
      "outputs": [
        {
          "output_type": "execute_result",
          "data": {
            "text/plain": [
              "number              0\n",
              "airline             0\n",
              "flight              0\n",
              "source_city         0\n",
              "departure_time      0\n",
              "stops               0\n",
              "arrival_time        0\n",
              "destination_city    0\n",
              "class               0\n",
              "duration            0\n",
              "lead_reservation    0\n",
              "price               0\n",
              "dtype: int64"
            ]
          },
          "metadata": {},
          "execution_count": 603
        }
      ]
    },
    {
      "cell_type": "markdown",
      "source": [
        "Check duplicates "
      ],
      "metadata": {
        "id": "efxFetLtwB3L"
      }
    },
    {
      "cell_type": "code",
      "source": [
        "flight.duplicated().sum()"
      ],
      "metadata": {
        "id": "5wZPPsydv8p0",
        "colab": {
          "base_uri": "https://localhost:8080/"
        },
        "outputId": "c43df3d8-27fe-494f-dfa0-9ed7817a9501"
      },
      "execution_count": 604,
      "outputs": [
        {
          "output_type": "execute_result",
          "data": {
            "text/plain": [
              "0"
            ]
          },
          "metadata": {},
          "execution_count": 604
        }
      ]
    },
    {
      "cell_type": "markdown",
      "source": [
        "number of unique data for each feature"
      ],
      "metadata": {
        "id": "1WKsNVAJwTua"
      }
    },
    {
      "cell_type": "code",
      "source": [
        "flight.nunique()"
      ],
      "metadata": {
        "id": "2tn-cBYWwJbA",
        "colab": {
          "base_uri": "https://localhost:8080/"
        },
        "outputId": "ad56d738-505b-4100-af3c-deb12ce37493"
      },
      "execution_count": 605,
      "outputs": [
        {
          "output_type": "execute_result",
          "data": {
            "text/plain": [
              "number              50000\n",
              "airline                 6\n",
              "flight               1438\n",
              "source_city             6\n",
              "departure_time          6\n",
              "stops                   3\n",
              "arrival_time            6\n",
              "destination_city        6\n",
              "class                   2\n",
              "duration              432\n",
              "lead_reservation       49\n",
              "price                6648\n",
              "dtype: int64"
            ]
          },
          "metadata": {},
          "execution_count": 605
        }
      ]
    },
    {
      "cell_type": "markdown",
      "source": [
        "As we understand from the result above, the \"number\" column is an index since its unique values are just like the size of our dataset, which is 300153.\n",
        "So, it will be dropped from our dataset."
      ],
      "metadata": {
        "id": "b-QgWZpmwgdO"
      }
    },
    {
      "cell_type": "code",
      "source": [
        "flight.drop([\"number\"], axis=1, inplace=True)"
      ],
      "metadata": {
        "id": "Qt-L5MFHwe28"
      },
      "execution_count": 606,
      "outputs": []
    },
    {
      "cell_type": "code",
      "source": [
        "flight.drop([\"flight\"], axis=1, inplace=True)"
      ],
      "metadata": {
        "id": "eW6zvZtu9EDI"
      },
      "execution_count": 607,
      "outputs": []
    },
    {
      "cell_type": "code",
      "source": [
        "flight.shape"
      ],
      "metadata": {
        "id": "OX8hT8t-x8gf",
        "colab": {
          "base_uri": "https://localhost:8080/"
        },
        "outputId": "aa047063-a825-499d-87b8-8f842c159ab4"
      },
      "execution_count": 608,
      "outputs": [
        {
          "data": {
            "text/plain": [
              "(50000, 10)"
            ]
          },
          "execution_count": 608,
          "metadata": {},
          "output_type": "execute_result"
        }
      ]
    },
    {
      "cell_type": "markdown",
      "source": [
        "convert price from int to float"
      ],
      "metadata": {
        "id": "cGsAMz5A5CAt"
      }
    },
    {
      "cell_type": "code",
      "source": [
        "flight['price'] = flight['price'].astype(float)"
      ],
      "metadata": {
        "id": "PPz3R2oJ5A7d"
      },
      "execution_count": 609,
      "outputs": []
    },
    {
      "cell_type": "code",
      "source": [
        "class_1hot.shape"
      ],
      "metadata": {
        "id": "X2nltbhGDqKN"
      },
      "execution_count": null,
      "outputs": []
    },
    {
      "cell_type": "code",
      "source": [
        "flight.info()"
      ],
      "metadata": {
        "id": "AGGWIXZkDwYF",
        "colab": {
          "base_uri": "https://localhost:8080/"
        },
        "outputId": "daef647f-64e1-40d6-fb82-3655eb266b57"
      },
      "execution_count": 611,
      "outputs": [
        {
          "output_type": "stream",
          "name": "stdout",
          "text": [
            "<class 'pandas.core.frame.DataFrame'>\n",
            "Int64Index: 50000 entries, 27131 to 15601\n",
            "Data columns (total 10 columns):\n",
            " #   Column            Non-Null Count  Dtype  \n",
            "---  ------            --------------  -----  \n",
            " 0   airline           50000 non-null  object \n",
            " 1   source_city       50000 non-null  object \n",
            " 2   departure_time    50000 non-null  object \n",
            " 3   stops             50000 non-null  object \n",
            " 4   arrival_time      50000 non-null  object \n",
            " 5   destination_city  50000 non-null  object \n",
            " 6   class             50000 non-null  object \n",
            " 7   duration          50000 non-null  float64\n",
            " 8   lead_reservation  50000 non-null  int64  \n",
            " 9   price             50000 non-null  float64\n",
            "dtypes: float64(2), int64(1), object(7)\n",
            "memory usage: 4.2+ MB\n"
          ]
        }
      ]
    },
    {
      "cell_type": "code",
      "source": [
        "flight_dumm = pd.get_dummies(flight)\n",
        "flight= pd.concat([flight_dumm], axis=1)\n",
        "print(flight_dumm)"
      ],
      "metadata": {
        "id": "Q6X0f1Nz6IK-",
        "colab": {
          "base_uri": "https://localhost:8080/"
        },
        "outputId": "2656fd24-1f82-44f3-e3f7-26fea3b58c55"
      },
      "execution_count": 612,
      "outputs": [
        {
          "output_type": "stream",
          "name": "stdout",
          "text": [
            "        duration  lead_reservation    price  airline_AirAsia  \\\n",
            "27131      19.75                40   7366.0                0   \n",
            "266857      9.83                42  64831.0                0   \n",
            "141228     10.50                41   6195.0                0   \n",
            "288329     14.50                14  60160.0                0   \n",
            "97334       8.25                20   6578.0                0   \n",
            "...          ...               ...      ...              ...   \n",
            "50691      14.25                39   5828.0                0   \n",
            "22037      16.00                13   5954.0                0   \n",
            "233495     16.33                41  85744.0                0   \n",
            "107611     14.42                35   7978.0                0   \n",
            "15601       5.58                29   3671.0                0   \n",
            "\n",
            "        airline_Air_India  airline_GO_FIRST  airline_Indigo  airline_SpiceJet  \\\n",
            "27131                   1                 0               0                 0   \n",
            "266857                  0                 0               0                 0   \n",
            "141228                  0                 0               0                 0   \n",
            "288329                  0                 0               0                 0   \n",
            "97334                   1                 0               0                 0   \n",
            "...                   ...               ...             ...               ...   \n",
            "50691                   1                 0               0                 0   \n",
            "22037                   0                 1               0                 0   \n",
            "233495                  0                 0               0                 0   \n",
            "107611                  0                 1               0                 0   \n",
            "15601                   0                 0               1                 0   \n",
            "\n",
            "        airline_Vistara  source_city_Bangalore  ...  arrival_time_Morning  \\\n",
            "27131                 0                      0  ...                     0   \n",
            "266857                1                      0  ...                     0   \n",
            "141228                1                      0  ...                     0   \n",
            "288329                1                      0  ...                     1   \n",
            "97334                 0                      1  ...                     0   \n",
            "...                 ...                    ...  ...                   ...   \n",
            "50691                 0                      0  ...                     0   \n",
            "22037                 0                      0  ...                     1   \n",
            "233495                1                      0  ...                     1   \n",
            "107611                0                      1  ...                     0   \n",
            "15601                 0                      0  ...                     0   \n",
            "\n",
            "        arrival_time_Night  destination_city_Bangalore  \\\n",
            "27131                    0                           0   \n",
            "266857                   1                           0   \n",
            "141228                   1                           1   \n",
            "288329                   0                           0   \n",
            "97334                    1                           0   \n",
            "...                    ...                         ...   \n",
            "50691                    0                           0   \n",
            "22037                    0                           0   \n",
            "233495                   0                           1   \n",
            "107611                   1                           0   \n",
            "15601                    0                           1   \n",
            "\n",
            "        destination_city_Chennai  destination_city_Delhi  \\\n",
            "27131                          0                       0   \n",
            "266857                         0                       0   \n",
            "141228                         0                       0   \n",
            "288329                         0                       1   \n",
            "97334                          0                       0   \n",
            "...                          ...                     ...   \n",
            "50691                          0                       1   \n",
            "22037                          0                       0   \n",
            "233495                         0                       0   \n",
            "107611                         0                       0   \n",
            "15601                          0                       0   \n",
            "\n",
            "        destination_city_Hyderabad  destination_city_Kolkata  \\\n",
            "27131                            0                         1   \n",
            "266857                           0                         0   \n",
            "141228                           0                         0   \n",
            "288329                           0                         0   \n",
            "97334                            0                         0   \n",
            "...                            ...                       ...   \n",
            "50691                            0                         0   \n",
            "22037                            0                         1   \n",
            "233495                           0                         0   \n",
            "107611                           0                         1   \n",
            "15601                            0                         0   \n",
            "\n",
            "        destination_city_Mumbai  class_Business  class_Economy  \n",
            "27131                         0               0              1  \n",
            "266857                        1               1              0  \n",
            "141228                        0               0              1  \n",
            "288329                        0               1              0  \n",
            "97334                         1               0              1  \n",
            "...                         ...             ...            ...  \n",
            "50691                         0               0              1  \n",
            "22037                         0               0              1  \n",
            "233495                        0               1              0  \n",
            "107611                        0               0              1  \n",
            "15601                         0               0              1  \n",
            "\n",
            "[50000 rows x 38 columns]\n"
          ]
        }
      ]
    },
    {
      "cell_type": "code",
      "source": [
        "flight.info()"
      ],
      "metadata": {
        "id": "t5VJ8NI7BN4C",
        "colab": {
          "base_uri": "https://localhost:8080/"
        },
        "outputId": "ab25e92c-dcaa-4931-886a-5f8da22cf58f"
      },
      "execution_count": 613,
      "outputs": [
        {
          "output_type": "stream",
          "name": "stdout",
          "text": [
            "<class 'pandas.core.frame.DataFrame'>\n",
            "Int64Index: 50000 entries, 27131 to 15601\n",
            "Data columns (total 38 columns):\n",
            " #   Column                        Non-Null Count  Dtype  \n",
            "---  ------                        --------------  -----  \n",
            " 0   duration                      50000 non-null  float64\n",
            " 1   lead_reservation              50000 non-null  int64  \n",
            " 2   price                         50000 non-null  float64\n",
            " 3   airline_AirAsia               50000 non-null  uint8  \n",
            " 4   airline_Air_India             50000 non-null  uint8  \n",
            " 5   airline_GO_FIRST              50000 non-null  uint8  \n",
            " 6   airline_Indigo                50000 non-null  uint8  \n",
            " 7   airline_SpiceJet              50000 non-null  uint8  \n",
            " 8   airline_Vistara               50000 non-null  uint8  \n",
            " 9   source_city_Bangalore         50000 non-null  uint8  \n",
            " 10  source_city_Chennai           50000 non-null  uint8  \n",
            " 11  source_city_Delhi             50000 non-null  uint8  \n",
            " 12  source_city_Hyderabad         50000 non-null  uint8  \n",
            " 13  source_city_Kolkata           50000 non-null  uint8  \n",
            " 14  source_city_Mumbai            50000 non-null  uint8  \n",
            " 15  departure_time_Afternoon      50000 non-null  uint8  \n",
            " 16  departure_time_Early_Morning  50000 non-null  uint8  \n",
            " 17  departure_time_Evening        50000 non-null  uint8  \n",
            " 18  departure_time_Late_Night     50000 non-null  uint8  \n",
            " 19  departure_time_Morning        50000 non-null  uint8  \n",
            " 20  departure_time_Night          50000 non-null  uint8  \n",
            " 21  stops_one                     50000 non-null  uint8  \n",
            " 22  stops_two_or_more             50000 non-null  uint8  \n",
            " 23  stops_zero                    50000 non-null  uint8  \n",
            " 24  arrival_time_Afternoon        50000 non-null  uint8  \n",
            " 25  arrival_time_Early_Morning    50000 non-null  uint8  \n",
            " 26  arrival_time_Evening          50000 non-null  uint8  \n",
            " 27  arrival_time_Late_Night       50000 non-null  uint8  \n",
            " 28  arrival_time_Morning          50000 non-null  uint8  \n",
            " 29  arrival_time_Night            50000 non-null  uint8  \n",
            " 30  destination_city_Bangalore    50000 non-null  uint8  \n",
            " 31  destination_city_Chennai      50000 non-null  uint8  \n",
            " 32  destination_city_Delhi        50000 non-null  uint8  \n",
            " 33  destination_city_Hyderabad    50000 non-null  uint8  \n",
            " 34  destination_city_Kolkata      50000 non-null  uint8  \n",
            " 35  destination_city_Mumbai       50000 non-null  uint8  \n",
            " 36  class_Business                50000 non-null  uint8  \n",
            " 37  class_Economy                 50000 non-null  uint8  \n",
            "dtypes: float64(2), int64(1), uint8(35)\n",
            "memory usage: 3.2 MB\n"
          ]
        }
      ]
    },
    {
      "cell_type": "code",
      "source": [
        "flight.head()"
      ],
      "metadata": {
        "id": "8EyDjQ_INEkP",
        "colab": {
          "base_uri": "https://localhost:8080/",
          "height": 299
        },
        "outputId": "0e0dfeb7-2887-44fc-fbdb-4c68a893c89a"
      },
      "execution_count": 614,
      "outputs": [
        {
          "data": {
            "text/html": [
              "\n",
              "  <div id=\"df-bc386c50-afc0-4e9a-8711-cf18661505b1\">\n",
              "    <div class=\"colab-df-container\">\n",
              "      <div>\n",
              "<style scoped>\n",
              "    .dataframe tbody tr th:only-of-type {\n",
              "        vertical-align: middle;\n",
              "    }\n",
              "\n",
              "    .dataframe tbody tr th {\n",
              "        vertical-align: top;\n",
              "    }\n",
              "\n",
              "    .dataframe thead th {\n",
              "        text-align: right;\n",
              "    }\n",
              "</style>\n",
              "<table border=\"1\" class=\"dataframe\">\n",
              "  <thead>\n",
              "    <tr style=\"text-align: right;\">\n",
              "      <th></th>\n",
              "      <th>duration</th>\n",
              "      <th>lead_reservation</th>\n",
              "      <th>price</th>\n",
              "      <th>airline_AirAsia</th>\n",
              "      <th>airline_Air_India</th>\n",
              "      <th>airline_GO_FIRST</th>\n",
              "      <th>airline_Indigo</th>\n",
              "      <th>airline_SpiceJet</th>\n",
              "      <th>airline_Vistara</th>\n",
              "      <th>source_city_Bangalore</th>\n",
              "      <th>...</th>\n",
              "      <th>arrival_time_Morning</th>\n",
              "      <th>arrival_time_Night</th>\n",
              "      <th>destination_city_Bangalore</th>\n",
              "      <th>destination_city_Chennai</th>\n",
              "      <th>destination_city_Delhi</th>\n",
              "      <th>destination_city_Hyderabad</th>\n",
              "      <th>destination_city_Kolkata</th>\n",
              "      <th>destination_city_Mumbai</th>\n",
              "      <th>class_Business</th>\n",
              "      <th>class_Economy</th>\n",
              "    </tr>\n",
              "  </thead>\n",
              "  <tbody>\n",
              "    <tr>\n",
              "      <th>27131</th>\n",
              "      <td>19.75</td>\n",
              "      <td>40</td>\n",
              "      <td>7366.0</td>\n",
              "      <td>0</td>\n",
              "      <td>1</td>\n",
              "      <td>0</td>\n",
              "      <td>0</td>\n",
              "      <td>0</td>\n",
              "      <td>0</td>\n",
              "      <td>0</td>\n",
              "      <td>...</td>\n",
              "      <td>0</td>\n",
              "      <td>0</td>\n",
              "      <td>0</td>\n",
              "      <td>0</td>\n",
              "      <td>0</td>\n",
              "      <td>0</td>\n",
              "      <td>1</td>\n",
              "      <td>0</td>\n",
              "      <td>0</td>\n",
              "      <td>1</td>\n",
              "    </tr>\n",
              "    <tr>\n",
              "      <th>266857</th>\n",
              "      <td>9.83</td>\n",
              "      <td>42</td>\n",
              "      <td>64831.0</td>\n",
              "      <td>0</td>\n",
              "      <td>0</td>\n",
              "      <td>0</td>\n",
              "      <td>0</td>\n",
              "      <td>0</td>\n",
              "      <td>1</td>\n",
              "      <td>0</td>\n",
              "      <td>...</td>\n",
              "      <td>0</td>\n",
              "      <td>1</td>\n",
              "      <td>0</td>\n",
              "      <td>0</td>\n",
              "      <td>0</td>\n",
              "      <td>0</td>\n",
              "      <td>0</td>\n",
              "      <td>1</td>\n",
              "      <td>1</td>\n",
              "      <td>0</td>\n",
              "    </tr>\n",
              "    <tr>\n",
              "      <th>141228</th>\n",
              "      <td>10.50</td>\n",
              "      <td>41</td>\n",
              "      <td>6195.0</td>\n",
              "      <td>0</td>\n",
              "      <td>0</td>\n",
              "      <td>0</td>\n",
              "      <td>0</td>\n",
              "      <td>0</td>\n",
              "      <td>1</td>\n",
              "      <td>0</td>\n",
              "      <td>...</td>\n",
              "      <td>0</td>\n",
              "      <td>1</td>\n",
              "      <td>1</td>\n",
              "      <td>0</td>\n",
              "      <td>0</td>\n",
              "      <td>0</td>\n",
              "      <td>0</td>\n",
              "      <td>0</td>\n",
              "      <td>0</td>\n",
              "      <td>1</td>\n",
              "    </tr>\n",
              "    <tr>\n",
              "      <th>288329</th>\n",
              "      <td>14.50</td>\n",
              "      <td>14</td>\n",
              "      <td>60160.0</td>\n",
              "      <td>0</td>\n",
              "      <td>0</td>\n",
              "      <td>0</td>\n",
              "      <td>0</td>\n",
              "      <td>0</td>\n",
              "      <td>1</td>\n",
              "      <td>0</td>\n",
              "      <td>...</td>\n",
              "      <td>1</td>\n",
              "      <td>0</td>\n",
              "      <td>0</td>\n",
              "      <td>0</td>\n",
              "      <td>1</td>\n",
              "      <td>0</td>\n",
              "      <td>0</td>\n",
              "      <td>0</td>\n",
              "      <td>1</td>\n",
              "      <td>0</td>\n",
              "    </tr>\n",
              "    <tr>\n",
              "      <th>97334</th>\n",
              "      <td>8.25</td>\n",
              "      <td>20</td>\n",
              "      <td>6578.0</td>\n",
              "      <td>0</td>\n",
              "      <td>1</td>\n",
              "      <td>0</td>\n",
              "      <td>0</td>\n",
              "      <td>0</td>\n",
              "      <td>0</td>\n",
              "      <td>1</td>\n",
              "      <td>...</td>\n",
              "      <td>0</td>\n",
              "      <td>1</td>\n",
              "      <td>0</td>\n",
              "      <td>0</td>\n",
              "      <td>0</td>\n",
              "      <td>0</td>\n",
              "      <td>0</td>\n",
              "      <td>1</td>\n",
              "      <td>0</td>\n",
              "      <td>1</td>\n",
              "    </tr>\n",
              "  </tbody>\n",
              "</table>\n",
              "<p>5 rows × 38 columns</p>\n",
              "</div>\n",
              "      <button class=\"colab-df-convert\" onclick=\"convertToInteractive('df-bc386c50-afc0-4e9a-8711-cf18661505b1')\"\n",
              "              title=\"Convert this dataframe to an interactive table.\"\n",
              "              style=\"display:none;\">\n",
              "        \n",
              "  <svg xmlns=\"http://www.w3.org/2000/svg\" height=\"24px\"viewBox=\"0 0 24 24\"\n",
              "       width=\"24px\">\n",
              "    <path d=\"M0 0h24v24H0V0z\" fill=\"none\"/>\n",
              "    <path d=\"M18.56 5.44l.94 2.06.94-2.06 2.06-.94-2.06-.94-.94-2.06-.94 2.06-2.06.94zm-11 1L8.5 8.5l.94-2.06 2.06-.94-2.06-.94L8.5 2.5l-.94 2.06-2.06.94zm10 10l.94 2.06.94-2.06 2.06-.94-2.06-.94-.94-2.06-.94 2.06-2.06.94z\"/><path d=\"M17.41 7.96l-1.37-1.37c-.4-.4-.92-.59-1.43-.59-.52 0-1.04.2-1.43.59L10.3 9.45l-7.72 7.72c-.78.78-.78 2.05 0 2.83L4 21.41c.39.39.9.59 1.41.59.51 0 1.02-.2 1.41-.59l7.78-7.78 2.81-2.81c.8-.78.8-2.07 0-2.86zM5.41 20L4 18.59l7.72-7.72 1.47 1.35L5.41 20z\"/>\n",
              "  </svg>\n",
              "      </button>\n",
              "      \n",
              "  <style>\n",
              "    .colab-df-container {\n",
              "      display:flex;\n",
              "      flex-wrap:wrap;\n",
              "      gap: 12px;\n",
              "    }\n",
              "\n",
              "    .colab-df-convert {\n",
              "      background-color: #E8F0FE;\n",
              "      border: none;\n",
              "      border-radius: 50%;\n",
              "      cursor: pointer;\n",
              "      display: none;\n",
              "      fill: #1967D2;\n",
              "      height: 32px;\n",
              "      padding: 0 0 0 0;\n",
              "      width: 32px;\n",
              "    }\n",
              "\n",
              "    .colab-df-convert:hover {\n",
              "      background-color: #E2EBFA;\n",
              "      box-shadow: 0px 1px 2px rgba(60, 64, 67, 0.3), 0px 1px 3px 1px rgba(60, 64, 67, 0.15);\n",
              "      fill: #174EA6;\n",
              "    }\n",
              "\n",
              "    [theme=dark] .colab-df-convert {\n",
              "      background-color: #3B4455;\n",
              "      fill: #D2E3FC;\n",
              "    }\n",
              "\n",
              "    [theme=dark] .colab-df-convert:hover {\n",
              "      background-color: #434B5C;\n",
              "      box-shadow: 0px 1px 3px 1px rgba(0, 0, 0, 0.15);\n",
              "      filter: drop-shadow(0px 1px 2px rgba(0, 0, 0, 0.3));\n",
              "      fill: #FFFFFF;\n",
              "    }\n",
              "  </style>\n",
              "\n",
              "      <script>\n",
              "        const buttonEl =\n",
              "          document.querySelector('#df-bc386c50-afc0-4e9a-8711-cf18661505b1 button.colab-df-convert');\n",
              "        buttonEl.style.display =\n",
              "          google.colab.kernel.accessAllowed ? 'block' : 'none';\n",
              "\n",
              "        async function convertToInteractive(key) {\n",
              "          const element = document.querySelector('#df-bc386c50-afc0-4e9a-8711-cf18661505b1');\n",
              "          const dataTable =\n",
              "            await google.colab.kernel.invokeFunction('convertToInteractive',\n",
              "                                                     [key], {});\n",
              "          if (!dataTable) return;\n",
              "\n",
              "          const docLinkHtml = 'Like what you see? Visit the ' +\n",
              "            '<a target=\"_blank\" href=https://colab.research.google.com/notebooks/data_table.ipynb>data table notebook</a>'\n",
              "            + ' to learn more about interactive tables.';\n",
              "          element.innerHTML = '';\n",
              "          dataTable['output_type'] = 'display_data';\n",
              "          await google.colab.output.renderOutput(dataTable, element);\n",
              "          const docLink = document.createElement('div');\n",
              "          docLink.innerHTML = docLinkHtml;\n",
              "          element.appendChild(docLink);\n",
              "        }\n",
              "      </script>\n",
              "    </div>\n",
              "  </div>\n",
              "  "
            ],
            "text/plain": [
              "        duration  lead_reservation    price  airline_AirAsia  \\\n",
              "27131      19.75                40   7366.0                0   \n",
              "266857      9.83                42  64831.0                0   \n",
              "141228     10.50                41   6195.0                0   \n",
              "288329     14.50                14  60160.0                0   \n",
              "97334       8.25                20   6578.0                0   \n",
              "\n",
              "        airline_Air_India  airline_GO_FIRST  airline_Indigo  airline_SpiceJet  \\\n",
              "27131                   1                 0               0                 0   \n",
              "266857                  0                 0               0                 0   \n",
              "141228                  0                 0               0                 0   \n",
              "288329                  0                 0               0                 0   \n",
              "97334                   1                 0               0                 0   \n",
              "\n",
              "        airline_Vistara  source_city_Bangalore  ...  arrival_time_Morning  \\\n",
              "27131                 0                      0  ...                     0   \n",
              "266857                1                      0  ...                     0   \n",
              "141228                1                      0  ...                     0   \n",
              "288329                1                      0  ...                     1   \n",
              "97334                 0                      1  ...                     0   \n",
              "\n",
              "        arrival_time_Night  destination_city_Bangalore  \\\n",
              "27131                    0                           0   \n",
              "266857                   1                           0   \n",
              "141228                   1                           1   \n",
              "288329                   0                           0   \n",
              "97334                    1                           0   \n",
              "\n",
              "        destination_city_Chennai  destination_city_Delhi  \\\n",
              "27131                          0                       0   \n",
              "266857                         0                       0   \n",
              "141228                         0                       0   \n",
              "288329                         0                       1   \n",
              "97334                          0                       0   \n",
              "\n",
              "        destination_city_Hyderabad  destination_city_Kolkata  \\\n",
              "27131                            0                         1   \n",
              "266857                           0                         0   \n",
              "141228                           0                         0   \n",
              "288329                           0                         0   \n",
              "97334                            0                         0   \n",
              "\n",
              "        destination_city_Mumbai  class_Business  class_Economy  \n",
              "27131                         0               0              1  \n",
              "266857                        1               1              0  \n",
              "141228                        0               0              1  \n",
              "288329                        0               1              0  \n",
              "97334                         1               0              1  \n",
              "\n",
              "[5 rows x 38 columns]"
            ]
          },
          "execution_count": 614,
          "metadata": {},
          "output_type": "execute_result"
        }
      ]
    },
    {
      "cell_type": "markdown",
      "source": [
        "**Draw histogram to view the numeric values distribution**"
      ],
      "metadata": {
        "id": "ck1JVIQWykHD"
      }
    },
    {
      "cell_type": "code",
      "source": [
        "%matplotlib inline\n",
        "import matplotlib.pyplot as plt\n",
        "flight.hist(bins=40, figsize=(20,15))\n",
        "plt.show()"
      ],
      "metadata": {
        "id": "lrYZS9_QyAGu",
        "colab": {
          "base_uri": "https://localhost:8080/",
          "height": 662
        },
        "outputId": "2366bad7-ac58-4f83-d47c-2c2608d83dd1"
      },
      "execution_count": 615,
      "outputs": [
        {
          "output_type": "display_data",
          "data": {
            "text/plain": [
              "<Figure size 2000x1500 with 42 Axes>"
            ],
            "image/png": "[encoded data removed]"
          },
          "metadata": {}
        }
      ]
    },
    {
      "cell_type": "markdown",
      "source": [
        "**Detect and Remove outliers** "
      ],
      "metadata": {
        "id": "vu-YkZlH5Pla"
      }
    },
    {
      "cell_type": "code",
      "source": [
        "flight.info()"
      ],
      "metadata": {
        "id": "xt3inf3mPqIW"
      },
      "execution_count": null,
      "outputs": []
    },
    {
      "cell_type": "code",
      "source": [],
      "metadata": {
        "id": "Jn3tBrTmzKaq"
      },
      "execution_count": 616,
      "outputs": []
    },
    {
      "cell_type": "markdown",
      "source": [
        "### **Get the size of taining set and test set**"
      ],
      "metadata": {
        "id": "DnxANsmZAOCx"
      }
    },
    {
      "cell_type": "code",
      "source": [
        "#using Scikit-Learn train_test_split()\n",
        "train_set, test_set = train_test_split(flight, test_size=0.2, random_state=42)\n",
        "print(\"size of training data\",len(train_set))\n",
        "print(\"size of testing data\",len(test_set))"
      ],
      "metadata": {
        "id": "CwB6_dzBAJiH",
        "colab": {
          "base_uri": "https://localhost:8080/"
        },
        "outputId": "caf2da6f-2881-4976-df4c-5e1dc4da52b5"
      },
      "execution_count": 617,
      "outputs": [
        {
          "output_type": "stream",
          "name": "stdout",
          "text": [
            "size of training data 40000\n",
            "size of testing data 10000\n"
          ]
        }
      ]
    },
    {
      "cell_type": "code",
      "source": [
        "flightX = train_set.drop(\"price\", axis =1)\n",
        "flightY = train_set[\"price\"].copy()\n",
        "X_train, X_test, y_train, y_test = train_test_split(flightX, flightY, test_size=0.2, random_state=42)"
      ],
      "metadata": {
        "id": "BKpiXcCwaVM0"
      },
      "execution_count": 620,
      "outputs": []
    },
    {
      "cell_type": "markdown",
      "source": [
        "### **Linear Regression**\n",
        "\n",
        "\n"
      ],
      "metadata": {
        "id": "WihyQUj52nCK"
      }
    },
    {
      "cell_type": "code",
      "source": [
        "from sklearn.linear_model import LinearRegression\n",
        "lin_reg= LinearRegression()\n",
        "lin_reg.fit(flightX, flightY)\n",
        "lin_reg_pred= lin_reg.predict(flightX)\n",
        "lin_mse= mean_squared_error(flightY, lin_reg_pred)\n",
        "lin_rmse= np.sqrt(lin_mse)\n",
        "print(\"Linear Regression mean squared error: \", lin_rmse)\n",
        "print(\"Accuracy: \",lin_reg.score(flightX, flightY))"
      ],
      "metadata": {
        "id": "piLMARgkY-Ea",
        "colab": {
          "base_uri": "https://localhost:8080/"
        },
        "outputId": "882b8278-0f23-4711-9010-edaa15b38fdd"
      },
      "execution_count": 621,
      "outputs": [
        {
          "output_type": "stream",
          "name": "stdout",
          "text": [
            "Linear Regression mean squared error:  6728.9015087650805\n",
            "Accuracy:  0.9116269467141701\n"
          ]
        }
      ]
    },
    {
      "cell_type": "code",
      "source": [
        "def display_scores(scores):\n",
        "    print(\"Scores:\", scores)\n",
        "    print(\"Mean:\", scores.mean())\n",
        "    print(\"Standard Deviation:\", scores.std())"
      ],
      "metadata": {
        "id": "ugVnN8LbVYGT"
      },
      "execution_count": null,
      "outputs": []
    },
    {
      "cell_type": "code",
      "source": [
        "lin_scores = cross_val_score(lin_reg,flightX,flightY, scoring=\"neg_mean_squared_error\", cv=10)\n",
        "lin_rmse_scores = np.sqrt(-lin_scores)\n",
        "display_scores(lin_rmse_scores)"
      ],
      "metadata": {
        "id": "-uQCkZKc2qhV"
      },
      "execution_count": null,
      "outputs": []
    },
    {
      "cell_type": "markdown",
      "source": [
        "### **Random Forest**"
      ],
      "metadata": {
        "id": "or7rlqYEZ2gI"
      }
    },
    {
      "cell_type": "code",
      "source": [
        "from sklearn.ensemble import RandomForestRegressor\n",
        "forest_reg = RandomForestRegressor()\n",
        "forest_reg.fit(flightX,flightY)\n",
        "forest_price_predicitons= forest_reg.predict(flightX)\n",
        "regr_score = forest_reg.score(flightX, flightY)\n",
        "forest_mse= mean_squared_error(flightY, forest_price_predicitons)\n",
        "forest_rmse= np.sqrt(forest_mse)\n",
        "forest_rmse"
      ],
      "metadata": {
        "id": "C93lEERhbOrg"
      },
      "execution_count": null,
      "outputs": []
    },
    {
      "cell_type": "code",
      "source": [
        "print(\"Accuracy: \", regr_score)"
      ],
      "metadata": {
        "id": "YMcO7bpagPHa"
      },
      "execution_count": null,
      "outputs": []
    },
    {
      "cell_type": "code",
      "source": [
        "def display_scores(scores):\n",
        "    print(\"Scores:\", scores)\n",
        "    print(\"Mean:\", scores.mean())\n",
        "    print(\"Standard Deviation:\", scores.std())"
      ],
      "metadata": {
        "id": "Q00jB1F56eLe"
      },
      "execution_count": null,
      "outputs": []
    },
    {
      "cell_type": "code",
      "source": [
        "from sklearn.model_selection import cross_val_score\n",
        "forest_scores = cross_val_score(forest_reg,flightX,flightY, scoring=\"neg_mean_squared_error\", cv=10)\n",
        "forest_rmse_scores= np.sqrt(-forest_scores)\n",
        "display_scores(forest_rmse_scores)"
      ],
      "metadata": {
        "id": "QZbFtqmNRh1A",
        "colab": {
          "base_uri": "https://localhost:8080/"
        },
        "outputId": "18cb7a20-c33c-449c-aff4-0c98fb8b8330"
      },
      "execution_count": 591,
      "outputs": [
        {
          "output_type": "stream",
          "name": "stdout",
          "text": [
            "Scores: [2727.64911108 2789.31257751 2840.24278884 2875.63881547 2791.43525367\n",
            " 2759.48066371 2778.87039561 2875.04391033 2786.22491351 2914.17148262]\n",
            "Mean: 2813.8069912350875\n",
            "Standard Deviation: 56.39269023664421\n"
          ]
        }
      ]
    },
    {
      "cell_type": "code",
      "source": [
        "from sklearn.tree import DecisionTreeRegressor\n",
        "\n",
        "tree_reg = DecisionTreeRegressor()\n",
        "tree_reg.fit(flightX, flightY) #train the model\n",
        "price_predictions = tree_reg.predict(flightX) #predict\n",
        "tree_score = tree_reg.score(flightX, flightY)\n",
        "tree_mse = mean_squared_error (flightY, price_predictions)\n",
        "tree_rmse = np.sqrt(tree_mse)\n",
        "tree_rmse"
      ],
      "metadata": {
        "id": "hFXcDRLkWfnH",
        "colab": {
          "base_uri": "https://localhost:8080/"
        },
        "outputId": "03a65fb3-d407-4327-9c47-7fac7823cacc"
      },
      "execution_count": 592,
      "outputs": [
        {
          "output_type": "execute_result",
          "data": {
            "text/plain": [
              "493.3061042365919"
            ]
          },
          "metadata": {},
          "execution_count": 592
        }
      ]
    },
    {
      "cell_type": "code",
      "source": [
        "print(\"Accuracy: \", tree_score)"
      ],
      "metadata": {
        "id": "WrGNMHJaoo6F",
        "colab": {
          "base_uri": "https://localhost:8080/"
        },
        "outputId": "69a64e0b-3e17-4685-b791-571d9e2cd56f"
      },
      "execution_count": 593,
      "outputs": [
        {
          "output_type": "stream",
          "name": "stdout",
          "text": [
            "Accuracy:  0.9995274060541616\n"
          ]
        }
      ]
    },
    {
      "cell_type": "code",
      "source": [
        "from sklearn.model_selection import cross_val_score\n",
        "scores = cross_val_score(tree_reg, flightX, flightY, scoring=\"neg_mean_squared_error\", cv=10)\n",
        "tree_rmse_scores = np.sqrt(-scores)"
      ],
      "metadata": {
        "id": "PdsR2gUAWz5C"
      },
      "execution_count": 594,
      "outputs": []
    },
    {
      "cell_type": "code",
      "source": [
        "display_scores(tree_rmse_scores)"
      ],
      "metadata": {
        "id": "qo_fNaUAXQsF"
      },
      "execution_count": null,
      "outputs": []
    }
  ]
}